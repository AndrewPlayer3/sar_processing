{
 "cells": [
  {
   "attachments": {},
   "cell_type": "markdown",
   "id": "73a21720-6efe-43ec-a8c9-6256bff1e4c8",
   "metadata": {},
   "source": [
    "Notes from [Introduction to Synthetic Aperture Radar Using Python and MATLAB](https://ieeexplore.ieee.org/document/9893146).\n",
    "# Imaging Modes\n",
    "\n",
    "## Synthetic Aperture Radar Introduction\n",
    "\n",
    "Synthetic Aperture Radar (SAR) is an imaging technique that is capable of generating high-resolution images in all weather conditions. SAR imaging modes usually operate using a moving platform with a side-looking geometry. Radar pulses are emitted as the platform moves, and the motion is used to form a *synthetic aperture*. The received pulses are then combined to form an image. The pulses are usually *linear frequency modulated (LFM)* waveforms, which are also known as *chirps*. In SAR geometry, there are two different kinds of \"time\": fast time and slow time. *Fast time* is the time related to the pulses. *Slow time* is the time related to the motion of the platform. Unlike most imaging, SAR data needs to be processed to be interpretable. The form of the raw data changes depending on the exact platform and implementation. There are also many different ways of forming a SAR image.\n",
    "\n",
    "<img src=\"imgs/sar_raw.png\" width=\"800\" height=\"700\" style=\"margin-left:auto; margin-right:auto\"/>"
   ]
  },
  {
   "cell_type": "markdown",
   "id": "9b8594a3-d3e1-4628-8448-04b4047d1aab",
   "metadata": {},
   "source": [
    "## Stripmap"
   ]
  },
  {
   "attachments": {},
   "cell_type": "markdown",
   "id": "91098ab6-fa1b-47ab-9080-6d66ed897514",
   "metadata": {},
   "source": [
    "### Intro and Geometry\n",
    "\n",
    "Stripmap imaging was the first imaging mode used in SAR systems. Generally, as the platform moves, it points at a fixed look angle $\\theta_l$ illuminates a section of the ground called the *ground swath*. The illumination is done via a continuous sequence of pulses, and the shape of the ground swath is usually an ellipse. The ellipse moves across the ground in the direction of the platforms motion, which is known as the *cross range* direction.\n",
    "\n",
    "The size of the ground swath can be kilometers to hundreds of kilometers. It's width can be related to the antenna's footprint, using the classical expression for the Rayleigh resolution for a finite aperture\n",
    "$$ W_g\\approx{\\frac{\\lambda R_0}{D_{\\nu}}} \\text{\\;\\;(m)} $$ \n",
    "where<br>\n",
    "<br>\n",
    "&nbsp;&nbsp;&nbsp;&nbsp;$ \\lambda = \\text{wavelength (m)}$<br>\n",
    "&nbsp;&nbsp;&nbsp;&nbsp;$ R_0 = \\text{slant range to swath midpoint (m)}$<br>\n",
    "&nbsp;&nbsp;&nbsp;&nbsp;$ D_{\\mu} = \\text{verticle antenna height (m)}$<br>\n",
    "&nbsp;&nbsp;&nbsp;&nbsp;$ W_g = \\text{width of the ground swath (m)}$<br>\n",
    "\n",
    "<img src=\"imgs/stripmap_geometry.png\" width=\"700\" height=\"700\" style=\"margin-left:auto; margin-right:auto\"/>"
   ]
  },
  {
   "attachments": {},
   "cell_type": "markdown",
   "id": "41e60029-ce9d-4211-af42-a5f5ae8a79b5",
   "metadata": {},
   "source": [
    "### Resolution\n",
    "\n",
    "The slant-range resolution is casually related to the bandwidth of the waverform by\n",
    "$$ \\delta_r = \\frac{c}{2B}\\text{\\;\\;(m)}$$\n",
    "where<br>\n",
    "<br>\n",
    "&nbsp;&nbsp;&nbsp;&nbsp;$c = \\text{speed of light (m/s)}$<br>\n",
    "&nbsp;&nbsp;&nbsp;&nbsp;$B = \\text{bandwidth (Hz)}$<br>\n",
    "&nbsp;&nbsp;&nbsp;&nbsp;$\\theta_r = \\text{slant-plane range resolution (m)}$<br>\n",
    "<br>\n",
    "The theoretical limit on range resolution is $\\delta_{r}$. Many factors, including sampling rate, modulation, quantization, and windowing, will reduce the range resolution that a radar can achieve. The resolution in the ground plane is related to $\\delta_{r}$ and the incident angle $\\theta_{i}$ by\n",
    "$$ \\delta_g = \\frac{c}{2B\\cos(\\theta_i)}\\text{\\;\\;(m)}$$\n",
    "In the cross-range (also called azimuth) direction, the resolution is a fraction of the antennas physical size $D_\\alpha$ - expressed as\n",
    "$$\\delta_{\\alpha} = \\frac{D_{\\alpha}}{2}\\text{\\;\\;(m)}$$\n",
    "So the azimuth resolution is not related to range. The azimuth resolution is also finer in platforms with smaller sensors, since they result in a beamwidth and synthetic aperture. The expression for azimuth resolution assumes that the synthetic aperture covers the support band - a subset of the interval $[\\frac{-L_{sa}}{2}, \\frac{L_{sa}}{2}]$ where $L_{sa}$ is the synthetic aperture length. The *support band* is given by \n",
    "$$ b \\in [-\\frac{L_{span}}{2}-\\frac{R_0\\lambda}{2D_{\\alpha}}, \\frac{L_{span}}{2}+\\frac{R_0\\lambda}{2D_{\\alpha}}]\\text{\\;\\;(m)}$$\n",
    "where<br>\n",
    "<br>\n",
    "&nbsp;&nbsp;&nbsp;&nbsp;$L_{span} = \\text{cross-range span of the image area (m)}$<br>\n",
    "&nbsp;&nbsp;&nbsp;&nbsp;$\\lambda = \\text{wavelength (m)}$<br>\n",
    "&nbsp;&nbsp;&nbsp;&nbsp;$b = \\text{support band of the image area (m)}$<br>\n",
    "\n",
    "<img src=\"imgs/stripmap_support_band.png\" width=\"700\" height=\"700\" style=\"margin-left:auto; margin-right:auto\"/>\n",
    "\n",
    "Consider a point target, for example. Given that its span is 0, the support band is\n",
    "$$ b \\in [-\\frac{R_0\\lambda}{2D_{\\alpha}}, \\frac{R_0\\lambda}{2D_{\\alpha}}]\\text{\\;\\;(m)}$$\n",
    "Thus, the synthetic aperture must obey\n",
    "$$ L_{sa} > \\frac{R_0\\lambda}{D_{\\alpha}} \\text{\\;\\;(m)} $$\n",
    "The expressions for the ground-range and azimuth resolutions are based on the approximation of the target spectral support region as a rectangle. This region is described by the span\n",
    "$$ \\Delta k_x = 2(k_{max} - k_{min}) \\text{\\;\\;(rad/m)} $$\n",
    "$$ \\Delta k_y = \\frac{4\\pi}{D_{\\alpha}} \\text{\\;\\;(rad/m)} $$\n",
    "\n",
    "The support region represents the bandwidth of the target function. This leads to a point spread function, expressed as\n",
    "$$ {psf} = \\text{sinc}(\\frac{\\Delta k_x x}{2\\pi})\\text{\\;sinc}(\\frac{\\Delta k_y y}{2\\pi}) $$\n",
    "In the book, the sinc function is defined as\n",
    "$$ \\text{sinc}(x)  = \\left\\{ \\begin{array}{ll} 0 & \\text{for\\;} x = 0 \\\\ \\frac{\\sin{\\pi x}}{\\pi x} & \\text{otherwise.}\\end{array} \\right.$$\n",
    "So, the range and cross-range resolutions are given by\n",
    "$$ \\delta_x = \\frac{2\\pi}{\\Delta k_x} = \\frac{c}{2B} \\text{\\;\\;(m)}$$\n",
    "$$ \\delta_y = \\frac{2\\pi}{\\Delta k_y} = \\frac{D_{\\alpha}}{2} \\text{\\;\\;(m)}$$\n",
    "This approximation is generally good for systems where the bandwidth is significantly greater than the center frequency; however, it does not hold true for otherwise - as the point spread function varies and resembles a cone.<br>\n",
    "\n",
    "<img src=\"imgs/stripmap_point_spread_example.png\"  width=\"700\" height=\"700\" style=\"margin-left:auto; margin-right:auto\"/>\n"
   ]
  },
  {
   "cell_type": "markdown",
   "id": "aa163f9a-14b1-48ac-b803-375450232522",
   "metadata": {},
   "source": [
    "### Pulse Repitition Frequency\n",
    "\n",
    "The SAR platform, moving at velocity $v$, transmits pulses at a rate known as the *pulse repitition frequency* (PRF). To prevent aliasing, the PRF needs to cover the Doppler bandwidth. The Doppler frequency shift for a stationary target is given by\n",
    "$$ f_{D} = \\frac{2v}{\\lambda}\\sin{(\\theta_t)} \\text{\\;\\;(Hz)} $$\n",
    "The maximum Doppler shift occurs at the antenna half beamwidth, $\\frac{\\theta_{a}}{2}$. The Doppler bandwidth is given by\n",
    "$$ B_{D} = 2f_{D} = \\frac{4v}{\\lambda}\\sin{(\\frac{\\theta_{a}}{2})} \\text{\\;\\;(Hz)} $$\n",
    "Using the small angle approximation and subsituting $\\theta_{a} \\approx \\frac{\\lambda}{D_{\\alpha}}$ gives\n",
    "$$ PRF \\ge B_D \\approx \\frac{2v}{D_{\\alpha}}$$\n",
    "Using the *pulse repitition interval* (PRI), the spatial sampling requirement is given by\n",
    "$$ v \\times PRI \\le \\frac{D_{\\alpha}}{2} $$\n",
    "Meaning, there needs to be at least one pulse transmission for every half antenna distance moved in the azimuth direction by the platform. This means that for a smaller antenna, with a better azimuth resolution, a higher PRF is required. This increases costs and computation time.\n",
    "The *unambiguous range* also contrains the PRF. It is expressed as \n",
    "$$ R_u \\le \\frac{c(PRI - \\tau)}{2}$$\n",
    "where $\\tau$ is the length of the pulse in seconds.<br>\n",
    "\n",
    "<img src=\"imgs/stripmap_un_range.png\" width=\"700\" height=\"700\" style=\"margin-left:auto; margin-right:auto\"/>\n",
    "\n",
    "If the pulse width is small compared to the PRI, the limits of the PRF become\n",
    "$$ \\frac{2v}{D_{\\alpha}} \\le PRF \\le \\frac{c}{2R_{u}} = \\frac{c}{2W_{g}\\cos{(\\theta_{i})}}\\text{\\;\\;(Hz)}$$\n",
    "From that expression, it can be seen that increasing the width of the ground swath may require a decrease in azimuth resolution. This can be a big issue for space-born SAR platforms. The *maximum mapping rate* is given by \n",
    "$$ vW_{g} \\le \\frac{D_{\\alpha}}{2}\\frac{c}{2\\cos{(\\theta_{i})}} \\text{\\;\\;(sqm/s)}$$\n",
    "Thus a higher mapping rate requires a larger antenna, thus a worse azimuth resolution."
   ]
  },
  {
   "cell_type": "markdown",
   "id": "2cfbdc50-6e79-4eaf-bc21-6cce2bfa208f",
   "metadata": {},
   "source": [
    "### Signal to Noise Ratio\n",
    "\n",
    "The signal-to-noise ratio (SNR) for a point-scatterer in a SAR scene is\n",
    "$$ SNR = \\frac{P_{avg}A^{2}_{e}\\sigma}{8 \\pi R^{3}\\delta_{a}vkT_{0}FL} $$\n",
    "where<br>\n",
    "<br>\n",
    "&nbsp;&nbsp;&nbsp;&nbsp;$P_{avg} = \\text{average transmitted power (W)}$<br>\n",
    "&nbsp;&nbsp;&nbsp;&nbsp;$A_e = \\text{antenna effective aperture (sqm)}$<br>\n",
    "&nbsp;&nbsp;&nbsp;&nbsp;$\\sigma = \\text{radar cross section of point target (sqm)}$<br>\n",
    "&nbsp;&nbsp;&nbsp;&nbsp;$\\lambda = \\text{wavelength of center frequency (m)}$<br>\n",
    "&nbsp;&nbsp;&nbsp;&nbsp;$R = \\text{range to point target (m)}$<br>\n",
    "&nbsp;&nbsp;&nbsp;&nbsp;$\\delta_{a} = \\text{azimuth resolution (m)}$<br>\n",
    "&nbsp;&nbsp;&nbsp;&nbsp;$v = \\text{velocity of platform (m/s)}$<br>\n",
    "&nbsp;&nbsp;&nbsp;&nbsp;$k = \\text{boltzman constant (J/K)}$<br>\n",
    "&nbsp;&nbsp;&nbsp;&nbsp;$T_0 = \\text{reference temperature (K)}$<br>\n",
    "&nbsp;&nbsp;&nbsp;&nbsp;$F = \\text{noise}$<br>\n",
    "&nbsp;&nbsp;&nbsp;&nbsp;$A_e = \\text{system losses}$<br>\n",
    "\n",
    "For distributed targets, the radar cross section can be written as \n",
    "$$ \\sigma = \\sigma_0 \\delta_a \\delta_r \\text{\\;\\;(sqm)}$$\n",
    "where $\\sigma_0$ is the backscattering coeffient of the target. When the distributed target is clutter, this is known as the clutter-to-noise ratio (CNR). The SNR for distributed targets decreases with finer range resolution. The SNR is given by\n",
    "$$ SNR = \\frac{P_{avg}A^{2}_{e}\\sigma_0 \\delta_r}{8 \\pi R^{3}\\delta_{a}vkT_{0}FL} $$"
   ]
  },
  {
   "cell_type": "markdown",
   "id": "ee63e169-266c-4813-a91e-dc92b747276c",
   "metadata": {},
   "source": [
    "### Noise-Equivalent Sigma Zero\n",
    "\n",
    "The sensitivity of a SAR system is given by the *noise-equivalent sigma zero* (NESZ). This is the backscattering coefficient that returns a SNR of one. It is given by\n",
    "$$ NESZ = \\frac{8 \\pi R^{3}\\delta_{a}vkT_{0}FL}{P_{avg}A^{2}_{e}\\delta_r} $$"
   ]
  },
  {
   "cell_type": "markdown",
   "id": "abbd462a-16e0-4b88-88a4-faa2f8e7e735",
   "metadata": {},
   "source": [
    "### Squint Angle\n",
    "\n",
    "Stripmap systems can have greater flexibility by being able to move the antenna, in the azimuth direction. This movement results in an angle known as the *squint angle*, $\\theta_s$. This does lead to a shift in the Doppler centroid; so squinting changes the spectrum of the return signal. A similar Doppler shift is also present in space-born SAR systems due to the rotation of the earth. Accurate estimation of the Doppler centroid is key to getting good results. Errors in the Doppler centroid estimation result in degredation of SNR, sidelobe levels, and ambiguity. The Doppler centroid can be determined from the flight or orbit information. It can also be determing from the signal via various time-domain and frequency-domain techniques.<br>\n",
    "\n",
    "<img src=\"imgs/stripmap_squint_angle.png\"  width=\"700\" height=\"700\" style=\"margin-left:auto; margin-right:auto\"/>"
   ]
  },
  {
   "cell_type": "code",
   "execution_count": null,
   "id": "0a6ef48f-4b29-4cdf-8837-f1ddf5c8c39e",
   "metadata": {},
   "outputs": [],
   "source": []
  }
 ],
 "metadata": {
  "kernelspec": {
   "display_name": "Python 3 (ipykernel)",
   "language": "python",
   "name": "python3"
  },
  "language_info": {
   "codemirror_mode": {
    "name": "ipython",
    "version": 3
   },
   "file_extension": ".py",
   "mimetype": "text/x-python",
   "name": "python",
   "nbconvert_exporter": "python",
   "pygments_lexer": "ipython3",
   "version": "3.12.4"
  }
 },
 "nbformat": 4,
 "nbformat_minor": 5
}
