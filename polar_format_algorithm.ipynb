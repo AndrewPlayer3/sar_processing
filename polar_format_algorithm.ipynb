{
 "cells": [
  {
   "cell_type": "markdown",
   "id": "2777f389-6962-40d4-9e69-cef31b47e575",
   "metadata": {},
   "source": [
    "# Polar Format Algorithm"
   ]
  },
  {
   "cell_type": "markdown",
   "id": "edb54141-3c02-4540-b62b-8d62725f0384",
   "metadata": {},
   "source": [
    "### Examples\n",
    "#### Point Target"
   ]
  },
  {
   "cell_type": "code",
   "execution_count": 1,
   "id": "ee12af48-19c4-4711-9708-c20db1c3c9c0",
   "metadata": {},
   "outputs": [],
   "source": [
    "from sys import float_info\n",
    "\n",
    "import numpy as np\n",
    "import scipy\n",
    "import matplotlib.pyplot as plt\n",
    "\n",
    "from scipy.io import loadmat\n",
    "from scipy.fft import ifft, fft, fftshift, ifftshift, fftfreq\n",
    "from scipy.fft import ifft2, fft2\n",
    "from scipy.constants import pi, c"
   ]
  },
  {
   "cell_type": "code",
   "execution_count": 2,
   "id": "09a39839-8c80-47e6-8828-d11572038e1f",
   "metadata": {},
   "outputs": [],
   "source": [
    "from point_target import PointTargetKSpace"
   ]
  },
  {
   "cell_type": "code",
   "execution_count": 3,
   "id": "61ff351a-0384-4dfc-b1ca-1ed96b5a5a8e",
   "metadata": {},
   "outputs": [],
   "source": [
    "bandwidth       = 300e6\n",
    "start_frequency = 5e9\n",
    "range_to_center = 1000\n",
    "\n",
    "x_target_pos = [-10, 0, 10]\n",
    "y_target_pos = [10, 0, -10]\n",
    "target_rcs   = [10, 10, 10]\n",
    "\n",
    "image_dimensions = (100, 100)\n",
    "image_bins       = (500, 500)\n",
    "azimuth_span     = (-3, 3)"
   ]
  },
  {
   "cell_type": "code",
   "execution_count": 4,
   "id": "45f4e0fa-50b4-484c-882c-e17de113ec68",
   "metadata": {},
   "outputs": [],
   "source": [
    "target = PointTargetKSpace(\n",
    "    range_to_center,\n",
    "    x_target_pos,\n",
    "    y_target_pos,\n",
    "    target_rcs,\n",
    "    image_dimensions,\n",
    "    image_bins,\n",
    "    azimuth_span,\n",
    "    start_frequency,\n",
    "    bandwidth\n",
    ")"
   ]
  },
  {
   "cell_type": "code",
   "execution_count": 5,
   "id": "977822c6-68b4-4b5c-96ae-50696583cce4",
   "metadata": {},
   "outputs": [],
   "source": [
    "fft_length = image_bins[0]"
   ]
  },
  {
   "cell_type": "code",
   "execution_count": 6,
   "id": "a1fb1830-c2e2-4881-af87-d085a0088335",
   "metadata": {},
   "outputs": [],
   "source": [
    "k = 2 * pi / target.wavelength"
   ]
  },
  {
   "cell_type": "code",
   "execution_count": 7,
   "id": "2d814ea7-9e38-4a68-87ba-a8efcc0aceb6",
   "metadata": {},
   "outputs": [],
   "source": [
    "start_az = np.radians(0)\n",
    "end_az = np.radians(45)\n",
    "\n",
    "sensor_az = []\n",
    "i = 0\n",
    "index = []\n",
    "for az in target.azimuths:\n",
    "    if az >= start_az and az <= end_az:\n",
    "        index.append(i)\n",
    "        sensor_az.append(az)\n",
    "        i += 1\n",
    "signal = target.signal[:, index]"
   ]
  },
  {
   "cell_type": "code",
   "execution_count": 8,
   "id": "0850b900-06f6-43c9-9bf5-d6f8dd254eab",
   "metadata": {},
   "outputs": [],
   "source": [
    "k_x = target.kx[:, index]\n",
    "k_y = target.ky[:, index]"
   ]
  },
  {
   "cell_type": "code",
   "execution_count": 9,
   "id": "0b8b7df4-3967-4814-bf6f-44161c6d841a",
   "metadata": {},
   "outputs": [],
   "source": [
    "kx = np.linspace(np.min(k_x), np.max(k_x))\n",
    "ky = np.linspace(np.min(k_y), np.max(k_y))\n",
    "kx_grid, ky_grid = np.meshgrid(kx, ky)"
   ]
  },
  {
   "cell_type": "code",
   "execution_count": 16,
   "id": "880f4d60-2c1d-4b2a-96d0-1a42d1941600",
   "metadata": {},
   "outputs": [],
   "source": [
    "signal_interp = scipy.interpolate.griddata((k_x.ravel(), k_y.ravel()), signal.ravel(), (kx_grid, ky_grid), method='linear', fill_value=(0+0j))"
   ]
  },
  {
   "cell_type": "code",
   "execution_count": 19,
   "id": "82d990c1-80e7-4f05-8379-3a62c5240f96",
   "metadata": {},
   "outputs": [],
   "source": [
    "img = fftshift(fftshift(ifft2(signal_interp, (fft_length, fft_length)), 0), 1).transpose()"
   ]
  },
  {
   "cell_type": "code",
   "execution_count": 20,
   "id": "0984a3b4-02ef-4bc5-a9b5-a1ebbc00d7d6",
   "metadata": {},
   "outputs": [],
   "source": [
    "norm = 10 * np.log10(np.abs(img) / np.max(np.abs(img)))"
   ]
  },
  {
   "cell_type": "code",
   "execution_count": 21,
   "id": "049a8eec-a882-4add-896f-56ee147e02c9",
   "metadata": {},
   "outputs": [],
   "source": [
    "freq_step_y = c / (2 * pi) * (kx_grid[0,1] - kx_grid[0,0])\n",
    "range_extent_y = c / (2 * freq_step_y)\n",
    "freq_step_x = c / (2 * pi) * (ky_grid[1,0] - ky_grid[0,0])\n",
    "range_extent_x = c / (2 * freq_step_x)"
   ]
  },
  {
   "cell_type": "code",
   "execution_count": 22,
   "id": "90a02c8f-275a-4347-969b-ec8d91943ef9",
   "metadata": {},
   "outputs": [],
   "source": [
    "x_rng = np.linspace(-0.5 * range_extent_x, 0.5 * range_extent_x, fft_length)\n",
    "y_rng = np.linspace(-0.5 * range_extent_y, 0.5 * range_extent_y, fft_length)"
   ]
  },
  {
   "cell_type": "code",
   "execution_count": 23,
   "id": "2e777d09-1219-4f8c-b482-714526bcf87d",
   "metadata": {},
   "outputs": [
    {
     "data": {
      "text/plain": [
       "<matplotlib.collections.PolyQuadMesh at 0x1872b9e20>"
      ]
     },
     "execution_count": 23,
     "metadata": {},
     "output_type": "execute_result"
    },
    {
     "data": {
      "image/png": "[encoded data removed]",
      "text/plain": [
       "<Figure size 640x480 with 1 Axes>"
      ]
     },
     "metadata": {},
     "output_type": "display_data"
    }
   ],
   "source": [
    "plt.pcolor(x_rng, y_rng, norm, cmap='jet', vmin=-15)"
   ]
  },
  {
   "cell_type": "code",
   "execution_count": null,
   "id": "a8e1eb0e-9dc2-4deb-b1c0-938bb30f6795",
   "metadata": {},
   "outputs": [],
   "source": []
  }
 ],
 "metadata": {
  "kernelspec": {
   "display_name": "Python 3 (ipykernel)",
   "language": "python",
   "name": "python3"
  },
  "language_info": {
   "codemirror_mode": {
    "name": "ipython",
    "version": 3
   },
   "file_extension": ".py",
   "mimetype": "text/x-python",
   "name": "python",
   "nbconvert_exporter": "python",
   "pygments_lexer": "ipython3",
   "version": "3.12.4"
  }
 },
 "nbformat": 4,
 "nbformat_minor": 5
}
