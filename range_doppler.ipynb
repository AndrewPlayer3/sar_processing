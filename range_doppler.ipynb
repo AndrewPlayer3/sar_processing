{
 "cells": [
  {
   "cell_type": "markdown",
   "id": "ff218401-074b-4c76-90dd-a9f39251168e",
   "metadata": {},
   "source": [
    "Notes from [Introduction to Synthetic Aperture Radar Using Python and MATLAB](https://ieeexplore.ieee.org/document/9893146)."
   ]
  },
  {
   "cell_type": "markdown",
   "id": "e4e1787d-d5be-4b9d-8b5c-a7b02a9dc116",
   "metadata": {},
   "source": [
    "# The Range Doppler Algorithm\n",
    "\n",
    "The range-Doppler algorithm (RDA) is one of the most widely used image formation algorithms for Synthetic Aperture Radar. It is the primary image formation algorithm used by [GAMMA Software](https://gamma-rs.ch/uploads/media/GAMMA_Software_information.pdf), for example. RDA handles the range and azimuth domains, seperately, as one-dimensional processes. Separately handling the range and azimuth domains is an approximation that leads to errors. These errors must be corrected through *range cell migration correction* (RCMC)."
   ]
  },
  {
   "cell_type": "markdown",
   "id": "fed09382-3f9e-4767-a4a4-fdf0c26fa123",
   "metadata": {},
   "source": [
    "### Algorithm Steps\n",
    "\n",
    "##### 1. Range Compression\n",
    "##### 2. Convert to Range-Doppler Domain\n",
    "##### 3. Range Cell Migration Correction\n",
    "##### 4. Azimuth Compression"
   ]
  },
  {
   "cell_type": "markdown",
   "id": "aa984622-94f7-409c-ba19-25a8a065b35b",
   "metadata": {},
   "source": [
    "### Range Compression\n",
    "Range compression is most commonly performed by a simple [match filter](./pulse_compression.ipynb). Attenuation, such as a sensitivity time control attenuator can be added to compensate for amplitude variation due to range. "
   ]
  },
  {
   "cell_type": "markdown",
   "id": "25fbf00e-1c4f-4ee7-8140-740a8096da17",
   "metadata": {},
   "source": [
    "### Conversion to Range-Doppler Domain\n",
    "Range-Doppler domain conversion is done via a one-dimensional fourier transform across the azimuth dimension. The signal from a point target will follow a hyperbolic path in the range-Doppler domain. Because of this, the signal can cross multiple range cells; these range cells must be aligned by using RCMC or the final image will be blurred."
   ]
  },
  {
   "cell_type": "markdown",
   "id": "7704b375-5510-45d6-927f-e8b129f7e92d",
   "metadata": {},
   "source": [
    "### Range Cell Migration Correction (RCMC)\n",
    "Range cell migration correction is needed to ensure that range cells are aligned after converting to the range-Doppler domain. Before this can be done, the Doppler Centroid must be accurately estimated. Any errors in the Doppler centroid estimation will translate to poor SNR, ambiguity, among other problems. One technique for Doppler centroid estimation is the average phase change method. The average phase change method finds the mean of the phase change between adjacent azimuth cells for each range cell. This process is given by\n",
    "$$ f_{DC} = \\frac{\\sum_{i=1}^{N-1}B_i}{2 \\pi N PRF}  \\text{\\;\\;(Hz)}$$\n",
    "where N is the number of azimuth angles, \n",
    "$$ B_i = \\angle{\\sum_{j=1}^{M} s_{i, j} \\times s_{i+1, j}^{*} } \\text{\\;\\;(rad)}$$\n",
    "M is the number of range cells, and $s_{i, j}$ is the range-Doppler data. Once the Doppler centroid is found, the correction for each Doppler frequency is\n",
    "$$ R_{offset}^{m, n} = \\frac{R_m}{\\sqrt{1 - (\\frac{\\lambda \\Delta f n}{2 v_{eff}})^2}} - R_m \\text{\\;\\;(m)}$$\n",
    "where\n",
    "$$ \\Delta f = \\frac{PRF}{N} + f_{DC} \\text{\\;\\;(Hz)}$$"
   ]
  },
  {
   "attachments": {},
   "cell_type": "markdown",
   "id": "6bd46f3f-c79b-4e1f-939e-679f4fd29f35",
   "metadata": {},
   "source": [
    "### Azimuth Compression\n",
    "\n",
    "Once range cell migration correction has been performed, the data needs to be compressed in the azimuth direction via a matched filter. The match filter is build using an azimuth reference function. The azimuth reference function uses the Doppler centroid estimation, and depends on the fact that the Doppler frequency in the azimuth direction is a chirp.<br>\n",
    "\n",
    "<img src=\"imgs/doppler_freq.png\"  width=\"500\" height=\"500\" style=\"margin-left:auto; margin-right:auto\"/>\n",
    "\n",
    "The doppler frequency slope in the azimuth direction is given by\n",
    "$$ \\beta_{az} = \\frac{2v_{eff}^{2}}{\\lambda R_s} \\text{\\;\\;(Hz)}$$\n",
    "where $R_s$ is the squinted range for each image cell\n",
    "$$ R_{s}^{m,n} = \\frac{R_m}{\\sqrt{1 - (\\frac{\\lambda \\Delta f n}{2 v_{eff}}})^2} \\text{\\;\\;(m)}$$\n",
    "Each range cell requires a unique reference function."
   ]
  },
  {
   "cell_type": "code",
   "execution_count": null,
   "id": "d8b59724-2803-4470-9c70-46eecc06723c",
   "metadata": {},
   "outputs": [],
   "source": []
  }
 ],
 "metadata": {
  "kernelspec": {
   "display_name": "Python 3 (ipykernel)",
   "language": "python",
   "name": "python3"
  },
  "language_info": {
   "codemirror_mode": {
    "name": "ipython",
    "version": 3
   },
   "file_extension": ".py",
   "mimetype": "text/x-python",
   "name": "python",
   "nbconvert_exporter": "python",
   "pygments_lexer": "ipython3",
   "version": "3.12.4"
  }
 },
 "nbformat": 4,
 "nbformat_minor": 5
}
