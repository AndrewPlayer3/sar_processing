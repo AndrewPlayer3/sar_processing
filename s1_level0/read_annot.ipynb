{
 "cells": [
  {
   "cell_type": "code",
   "execution_count": 17,
   "id": "4fb3e349-e076-484c-87b6-1c4691bc7a3f",
   "metadata": {},
   "outputs": [
    {
     "name": "stdout",
     "output_type": "stream",
     "text": [
      "Doppler Centroid Information:\n",
      "Azimuth Time: 2024-08-06T13:52:27.982917, Coefficients: 1\n",
      "Azimuth Time: 2024-08-06T13:52:30.741194, Coefficients: 1\n",
      "Azimuth Time: 2024-08-06T13:52:33.499471, Coefficients: 1\n",
      "Azimuth Time: 2024-08-06T13:52:36.257748, Coefficients: 1\n",
      "Azimuth Time: 2024-08-06T13:52:39.016025, Coefficients: 1\n",
      "Azimuth Time: 2024-08-06T13:52:41.774301, Coefficients: 1\n",
      "Azimuth Time: 2024-08-06T13:52:44.532578, Coefficients: 1\n",
      "Azimuth Time: 2024-08-06T13:52:47.290855, Coefficients: 1\n",
      "Azimuth Time: 2024-08-06T13:52:50.049132, Coefficients: 1\n",
      "Azimuth Time: 2024-08-06T13:52:52.807409, Coefficients: 1\n"
     ]
    }
   ],
   "source": [
    "import xml.etree.ElementTree as ET\n",
    "import numpy as np\n",
    "\n",
    "def read_doppler_from_annotation(xml_file):\n",
    "    \"\"\"\n",
    "    Reads Doppler centroid coefficients from a Sentinel-1 SLC annotation XML file.\n",
    "\n",
    "    Parameters:\n",
    "        xml_file (str): Path to the Sentinel-1 annotation XML file.\n",
    "\n",
    "    Returns:\n",
    "        doppler_centroid (dict): A dictionary containing Doppler centroid information.\n",
    "    \"\"\"\n",
    "    # Parse the XML file\n",
    "    tree = ET.parse(xml_file)\n",
    "    root = tree.getroot()\n",
    "\n",
    "    # Namespace handling (some XML files may have namespaces)\n",
    "    ns = {'s1': 'http://www.esa.int/safe/sentinel-1.0'}\n",
    "\n",
    "    # Doppler centroid coefficients are usually found in dopplerCentroid section\n",
    "    doppler_centroid = {}\n",
    "    \n",
    "    try:\n",
    "        # Navigate to Doppler centroid information (assuming TOPSAR format)\n",
    "        doppler_element = root.find('.//dopplerCentroid')\n",
    "\n",
    "        # Extract the values (could be different depending on product type)\n",
    "        for element in doppler_element.findall('.//dcEstimateList/dcEstimate'):\n",
    "            # Extracting time and polynomial coefficients\n",
    "            azimuth_time = element.find('azimuthTime').text\n",
    "\n",
    "            doppler_centroid[azimuth_time] = 1\n",
    "\n",
    "    except AttributeError:\n",
    "        print(\"Error: Doppler centroid data not found in the XML file.\")\n",
    "        return None\n",
    "    \n",
    "    return doppler_centroid\n",
    "\n",
    "# Example usage\n",
    "xml_file = \"/home/andrew/Downloads/s1a-iw1-slc-vv-20240806t135228-20240806t135253-055093-06b68a-004.xml\"\n",
    "doppler_data = read_doppler_from_annotation(xml_file)\n",
    "\n",
    "if doppler_data:\n",
    "    print(\"Doppler Centroid Information:\")\n",
    "    for time, coeffs in doppler_data.items():\n",
    "        print(f\"Azimuth Time: {time}, Coefficients: {coeffs}\")"
   ]
  },
  {
   "cell_type": "code",
   "execution_count": 3,
   "id": "77fcb4fb-028c-400d-9869-ecb0d0e8a1a8",
   "metadata": {},
   "outputs": [],
   "source": [
    "tree = ET.parse(xml_file)\n",
    "root = tree.getroot()"
   ]
  },
  {
   "cell_type": "code",
   "execution_count": 13,
   "id": "1865b826-2cc7-49df-a9be-9da7c237370a",
   "metadata": {},
   "outputs": [],
   "source": [
    "ns = {'s1': 'http://www.esa.int/safe/sentinel-1.0'}\n",
    "dop = root.find('.//dopplerCentroid')"
   ]
  },
  {
   "cell_type": "code",
   "execution_count": 15,
   "id": "002e9637-d9fb-4457-b82a-aef5319287f8",
   "metadata": {},
   "outputs": [
    {
     "ename": "AttributeError",
     "evalue": "'NoneType' object has no attribute 'text'",
     "output_type": "error",
     "traceback": [
      "\u001b[0;31m---------------------------------------------------------------------------\u001b[0m",
      "\u001b[0;31mAttributeError\u001b[0m                            Traceback (most recent call last)",
      "Cell \u001b[0;32mIn[15], line 4\u001b[0m\n\u001b[1;32m      1\u001b[0m \u001b[38;5;28;01mfor\u001b[39;00m element \u001b[38;5;129;01min\u001b[39;00m dop\u001b[38;5;241m.\u001b[39mfindall(\u001b[38;5;124m'\u001b[39m\u001b[38;5;124m.//dcEstimateList/dcEstimate\u001b[39m\u001b[38;5;124m'\u001b[39m):\n\u001b[1;32m      2\u001b[0m     \u001b[38;5;66;03m# Extracting time and polynomial coefficients\u001b[39;00m\n\u001b[1;32m      3\u001b[0m     azimuth_time \u001b[38;5;241m=\u001b[39m element\u001b[38;5;241m.\u001b[39mfind(\u001b[38;5;124m'\u001b[39m\u001b[38;5;124m.//azimuthTime\u001b[39m\u001b[38;5;124m'\u001b[39m)\u001b[38;5;241m.\u001b[39mtext\n\u001b[0;32m----> 4\u001b[0m     coefficients \u001b[38;5;241m=\u001b[39m \u001b[43melement\u001b[49m\u001b[38;5;241;43m.\u001b[39;49m\u001b[43mfind\u001b[49m\u001b[43m(\u001b[49m\u001b[38;5;124;43m'\u001b[39;49m\u001b[38;5;124;43m.//coefficients\u001b[39;49m\u001b[38;5;124;43m'\u001b[39;49m\u001b[43m)\u001b[49m\u001b[38;5;241;43m.\u001b[39;49m\u001b[43mtext\u001b[49m\n\u001b[1;32m      6\u001b[0m     \u001b[38;5;66;03m# Convert coefficients string into a list of floats\u001b[39;00m\n\u001b[1;32m      7\u001b[0m     coefficient_list \u001b[38;5;241m=\u001b[39m [\u001b[38;5;28mfloat\u001b[39m(c) \u001b[38;5;28;01mfor\u001b[39;00m c \u001b[38;5;129;01min\u001b[39;00m coefficients\u001b[38;5;241m.\u001b[39msplit()]\n",
      "\u001b[0;31mAttributeError\u001b[0m: 'NoneType' object has no attribute 'text'"
     ]
    }
   ],
   "source": [
    "for element in dop.findall('.//dcEstimateList/dcEstimate'):\n",
    "    # Extracting time and polynomial coefficients\n",
    "    azimuth_time = element.find('.//azimuthTime').text\n",
    "    coefficients = element.find('.//coefficients').text\n",
    "\n",
    "    # Convert coefficients string into a list of floats\n",
    "    coefficient_list = [float(c) for c in coefficients.split()]\n",
    "    \n",
    "    doppler_centroid[azimuth_time] = coefficient_list\n"
   ]
  },
  {
   "cell_type": "code",
   "execution_count": null,
   "id": "09baa820-447e-40e9-874a-77f516ad03d5",
   "metadata": {},
   "outputs": [],
   "source": []
  }
 ],
 "metadata": {
  "kernelspec": {
   "display_name": "Python 3 (ipykernel)",
   "language": "python",
   "name": "python3"
  },
  "language_info": {
   "codemirror_mode": {
    "name": "ipython",
    "version": 3
   },
   "file_extension": ".py",
   "mimetype": "text/x-python",
   "name": "python",
   "nbconvert_exporter": "python",
   "pygments_lexer": "ipython3",
   "version": "3.12.5"
  }
 },
 "nbformat": 4,
 "nbformat_minor": 5
}
