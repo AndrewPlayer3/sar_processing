{
 "cells": [
  {
   "cell_type": "markdown",
   "id": "76b4042e-bfa2-4b67-a22e-cc68caf62a35",
   "metadata": {},
   "source": [
    "### Imports"
   ]
  },
  {
   "cell_type": "code",
   "execution_count": 48,
   "id": "402c7817-0df8-40db-9ceb-7c1f4def21dc",
   "metadata": {},
   "outputs": [],
   "source": [
    "import struct\n",
    "import xml.etree.ElementTree as ET\n",
    "\n",
    "from datetime import datetime, timedelta\n",
    "\n",
    "import numpy as np\n",
    "import matplotlib.pyplot as plt\n",
    "\n",
    "from matplotlib import mlab\n",
    "from scipy.constants import pi, c\n",
    "from scipy.fft import fft, ifft, fftshift, ifftshift, ifft2, fft2\n",
    "from scipy.spatial.transform import Rotation\n",
    "\n",
    "from decoding import get_header_dict, packet_generator_from_file, packet_generator, build_data_word_dict, index_decoder, annotation_decoder\n",
    "from packet import Packet\n",
    "from utils import create_bit_string, find_packet_of_type, time_packet_generation\n",
    "from structs import SUB_COMM_KEY_POS, SUB_COMM_KEY_VAL, WORD_SIZE, F_REF"
   ]
  },
  {
   "cell_type": "markdown",
   "id": "fdfed7d9-8130-4de6-bc02-7be7fcdb971b",
   "metadata": {},
   "source": [
    "### Packet Decoding Functions"
   ]
  },
  {
   "cell_type": "code",
   "execution_count": 86,
   "id": "4fb3e349-e076-484c-87b6-1c4691bc7a3f",
   "metadata": {},
   "outputs": [],
   "source": [
    "def get_all_data_packets_from_file(filename):\n",
    "    packets = []\n",
    "    indexes = []\n",
    "    index = 0\n",
    "    with open(filename, 'rb') as data:\n",
    "        PacketGenerator = packet_generator(data)\n",
    "        while (data):\n",
    "            try:\n",
    "                packet = next(PacketGenerator)\n",
    "                if packet.data_format() == 'D':\n",
    "                    packets.append(packet)\n",
    "                    indexes.append(index)\n",
    "                index += 1\n",
    "            except ValueError as ve:\n",
    "                break\n",
    "    return packets, indexes\n",
    "\n",
    "def get_packets_in_swath_from_file(filename, swath_num):\n",
    "    with open(filename, 'rb') as file:\n",
    "        return get_packets_in_swath(file, swath_num)\n",
    "\n",
    "def get_packets_in_swath(data, swath_num):\n",
    "    PacketGenerator = packet_generator(data)\n",
    "    swath_packets = []\n",
    "    while (data):\n",
    "        try:\n",
    "            packet = next(PacketGenerator)\n",
    "            if packet.data_format() == 'D':\n",
    "                if packet.get_secondary_header()['swath_number'] == swath_num:\n",
    "                    swath_packets.append(packet)\n",
    "        except ValueError as ve:\n",
    "            break\n",
    "    return swath_packets  \n",
    "\n",
    "def get_packets_in_bursts(swath_packets):\n",
    "    bursts = []\n",
    "    burst_packets = []\n",
    "    previous_az = 0\n",
    "    index = 0\n",
    "    for packet in swath_packets:\n",
    "        az = packet.get_secondary_header()['azimuth_beam_address']\n",
    "        if index == 0:\n",
    "            previous_az = az\n",
    "        if az != previous_az and az != previous_az + 1:\n",
    "            bursts.append(burst_packets)\n",
    "            burst_packets = []\n",
    "        burst_packets.append(packet)\n",
    "        previous_az = az\n",
    "        if index == len(swath_packets) - 1:\n",
    "            bursts.append(burst_packets)\n",
    "        index += 1\n",
    "    return bursts\n",
    "\n",
    "def get_packets_in_burst(swath_packets, burst_num):\n",
    "    bursts = get_packets_in_bursts(swath_packets)\n",
    "    return bursts[burst_num]\n",
    "\n",
    "def decode_signals(packets):\n",
    "    signals = []\n",
    "    index = 0\n",
    "    for packet in packets:\n",
    "        if index % 100 == 0:\n",
    "            print(f\"{index} of {len(packets)}\")\n",
    "        signals.append(packet.get_complex_samples()[0])\n",
    "        index += 1\n",
    "    return np.asarray(signals)"
   ]
  },
  {
   "cell_type": "markdown",
   "id": "49f8d8d4-c276-42d3-a1a3-10bcc22cf1da",
   "metadata": {},
   "source": [
    "### Time Functions"
   ]
  },
  {
   "cell_type": "code",
   "execution_count": 93,
   "id": "7ab9ef46-4a20-4300-bd4f-89d99c50fd47",
   "metadata": {},
   "outputs": [],
   "source": [
    "def mjd2000_time_to_datetime(gps_time_seconds):\n",
    "    gps_epoch = datetime(2000, 1, 1)\n",
    "    current_time = gps_epoch + timedelta(seconds=gps_time_seconds)\n",
    "\n",
    "def gps_time_to_seconds_since_midnight(gps_time_seconds):\n",
    "    # GPS epoch is January 6, 1980, 00:00:00 UTC\n",
    "    gps_epoch = datetime(1980, 1, 6)\n",
    "    whole_seconds = int(gps_time_seconds)\n",
    "    fractional_seconds = gps_time_seconds - whole_seconds\n",
    "    current_time = gps_epoch + timedelta(seconds=whole_seconds)\n",
    "    seconds_since_midnight = (\n",
    "        current_time.hour * 3600 +\n",
    "        current_time.minute * 60 +\n",
    "        current_time.second +\n",
    "        fractional_seconds\n",
    "    )\n",
    "    return seconds_since_midnight\n",
    "\n",
    "def data_word_time_stamp_to_seconds(time_stamp):\n",
    "    time_stamp = time_stamp[8:64]\n",
    "    num = 0\n",
    "    for i in range(0, 32):\n",
    "        num += int(time_stamp[i]) * (2 ** (32-i-1))\n",
    "    for i in range(33, 56):\n",
    "        num += int(time_stamp[i]) * (2 ** (-i))\n",
    "    return num\n",
    "\n",
    "def get_gps_time_from_packet(packet):\n",
    "    header = packet.get_secondary_header()\n",
    "    seconds = header['coarse_time']\n",
    "    sub_seconds = 1 / header['fine_time']\n",
    "    return gps_time_to_seconds_since_midnight(seconds + sub_seconds)"
   ]
  },
  {
   "cell_type": "markdown",
   "id": "115cfca3-4310-4912-b184-0103ab2b8ebd",
   "metadata": {},
   "source": [
    "### State Vector Functions"
   ]
  },
  {
   "cell_type": "code",
   "execution_count": 70,
   "id": "44921af5-2a9d-476f-9b79-51930a72be67",
   "metadata": {},
   "outputs": [],
   "source": [
    "def to_float32(bit_string):\n",
    "    int_representation = int(bit_string, 2)\n",
    "    float_value = struct.unpack('f', struct.pack('I', int_representation))[0]\n",
    "    return float_value\n",
    "\n",
    "def to_float64(bit_string):\n",
    "    int_representation = int(bit_string, 2)\n",
    "    float_value = struct.unpack('d', struct.pack('Q', int_representation))[0]\n",
    "    return float_value\n",
    "\n",
    "def build_data_word_dict(packets):\n",
    "    data_word_dicts = []\n",
    "    sub_comm_dict = SUB_COMM_KEY_VAL.copy()\n",
    "    initial_data_word_index = 0\n",
    "    sc_data_word_index = 0\n",
    "    for i in range(len(packets)):\n",
    "        packet = packets[i]\n",
    "        secondary_header = packet.get_secondary_header()\n",
    "        sc_data_word_index = secondary_header['sc_data_word_index']\n",
    "        if i == 0:\n",
    "            initial_data_word_index = sc_data_word_index\n",
    "        else:\n",
    "            if sc_data_word_index == initial_data_word_index:\n",
    "                data_word_dicts.append(sub_comm_dict)\n",
    "                sub_comm_dict = SUB_COMM_KEY_VAL.copy()\n",
    "        data_word =  secondary_header['sc_data_word']\n",
    "        key, pos = SUB_COMM_KEY_POS[sc_data_word_index]\n",
    "        pos = pos * WORD_SIZE\n",
    "        sub_comm_dict[key] = sub_comm_dict[key][0:pos] + data_word + sub_comm_dict[key][pos+WORD_SIZE:]\n",
    "    if sc_data_word_index != initial_data_word_index:\n",
    "        data_word_dicts.append(sub_comm_dict)\n",
    "    for i in range(len(data_word_dicts)):\n",
    "        data_word_dicts[i]['x_axis_position'] = to_float64(data_word_dicts[i]['x_axis_position'])\n",
    "        data_word_dicts[i]['y_axis_position'] = to_float64(data_word_dicts[i]['y_axis_position'])\n",
    "        data_word_dicts[i]['z_axis_position'] = to_float64(data_word_dicts[i]['z_axis_position'])\n",
    "        data_word_dicts[i]['x_axis_velocity'] = to_float32(data_word_dicts[i]['x_axis_velocity'])\n",
    "        data_word_dicts[i]['y_axis_velocity'] = to_float32(data_word_dicts[i]['y_axis_velocity'])\n",
    "        data_word_dicts[i]['z_axis_velocity'] = to_float32(data_word_dicts[i]['z_axis_velocity'])\n",
    "        data_word_dicts[i]['q0_quaternion']   = to_float32(data_word_dicts[i]['q0_quaternion'])\n",
    "        data_word_dicts[i]['q1_quaternion']   = to_float32(data_word_dicts[i]['q1_quaternion'])\n",
    "        data_word_dicts[i]['q2_quaternion']   = to_float32(data_word_dicts[i]['q2_quaternion'])\n",
    "        data_word_dicts[i]['q3_quaternion']   = to_float32(data_word_dicts[i]['q3_quaternion'])\n",
    "        data_word_dicts[i]['omega_x']         = to_float32(data_word_dicts[i]['omega_x'])\n",
    "        data_word_dicts[i]['omega_y']         = to_float32(data_word_dicts[i]['omega_y'])\n",
    "        data_word_dicts[i]['omega_z']         = to_float32(data_word_dicts[i]['omega_z'])\n",
    "    return data_word_dicts\n",
    "\n",
    "def get_times_from_subcomm_dicts(subcomm_dicts):\n",
    "    times = []\n",
    "    for subcomm_dict in subcomm_dicts[:-1]:\n",
    "        gps_time = data_word_time_stamp_to_seconds(subcomm_dict[\"data_time_stamp\"])\n",
    "        data_time = gps_time_to_seconds_since_midnight(gps_time)\n",
    "        times.append(data_time)\n",
    "    return np.asarray(times)\n",
    "\n",
    "def get_velocities_from_subcomm_dicts(subcomm_dicts):\n",
    "    velocities = []\n",
    "    for subcomm_dict in subcomm_dicts[:-1]:\n",
    "        vx = subcomm_dict[\"x_axis_velocity\"]\n",
    "        vy = subcomm_dict[\"y_axis_velocity\"]\n",
    "        vz = subcomm_dict[\"z_axis_velocity\"]\n",
    "        velocities.append([vx, vy, vz])\n",
    "    return np.asarray(velocities, dtype=np.float64)\n",
    "\n",
    "def get_positions_from_subcomm_dicts(subcomm_dicts):\n",
    "    positions = []\n",
    "    for subcomm_dict in subcomm_dicts[:-1]:\n",
    "        px = subcomm_dict[\"x_axis_position\"]\n",
    "        py = subcomm_dict[\"y_axis_position\"]\n",
    "        pz = subcomm_dict[\"z_axis_position\"]\n",
    "        positions.append([px, py, pz])\n",
    "    return np.asarray(positions, dtype=np.float64)\n",
    "\n",
    "def quaternion_to_rotation_matrix(q):\n",
    "    \"\"\"https://forum.step.esa.int/uploads/default/original/2X/3/315f415284743cf42be03a464121df1ca337a26d.pdf\"\"\"\n",
    "    q0, q1, q2, q3 = q\n",
    "    e00 = q0**2 - q1**2 - q2**2 + q3**2\n",
    "    e01 = 2 * (q0 * q1 + q2 * q3)\n",
    "    e02 = 2 * (q0 * q2 - q1 * q3)\n",
    "    e10 = 2 * (q0 * q1 - q2 * q3)\n",
    "    e11 = -q0**2 + q1**2 - q2**2 + q3**2\n",
    "    e12 = 2 * (q1 * q2 + q0 * q3)\n",
    "    e20 = 2 * (q0 * q2 + q1 * q3)\n",
    "    e21 = 2 * (q1 * q2 - q0 * q3)\n",
    "    e22 = -q0**2 - q1**2 + q2**2 + q3**2\n",
    "    R = np.array([\n",
    "        [e00, e01, e02],\n",
    "        [e10, e11, e12],\n",
    "        [e20, e21, e22]\n",
    "    ])\n",
    "    return R\n",
    "\n",
    "def get_quaternions_from_subcomm_dicts(subcomm_dicts):\n",
    "    quaternions = []\n",
    "    for subcomm_dict in subcomm_dicts[:-1]:\n",
    "        q0 = subcomm_dict['q0_quaternion']\n",
    "        q1 = subcomm_dict['q1_quaternion']\n",
    "        q2 = subcomm_dict['q2_quaternion']\n",
    "        q3 = subcomm_dict['q3_quaternion']\n",
    "        m_eo_cfi = quaternion_to_rotation_matrix([q1, q2, q3, q0])\n",
    "        m = np.asarray([-m_eo_cfi[1], -m_eo_cfi[0], -m_eo_cfi[2]])\n",
    "        rotation_sat_att = Rotation.from_matrix(m)\n",
    "        quaternion_sat_att = rotation_sat_att.as_quat()\n",
    "        quaternions.append(quaternion_sat_att)\n",
    "    return np.asarray(quaternions, dtype=np.float64)\n",
    "\n",
    "def get_state_vectors_from_subcomm_dicts(subcomm_dicts):\n",
    "    times = list(get_times_from_subcomm_dicts(subcomm_dicts))\n",
    "    unique_times = list(set(times))\n",
    "    unique_indexes = [times.index(unique_time) for unique_time in unique_times]\n",
    "    velocities = get_velocities_from_subcomm_dicts(subcomm_dicts)[unique_indexes]\n",
    "    positions = get_positions_from_subcomm_dicts(subcomm_dicts)[unique_indexes]\n",
    "    quaternions = get_quaternions_from_subcomm_dicts(subcomm_dicts)[unique_indexes]\n",
    "    return {\n",
    "        \"times\": unique_times,\n",
    "        \"velocities\": velocities,\n",
    "        \"positions\": positions,\n",
    "        \"quaternions\": quaternions\n",
    "    }"
   ]
  },
  {
   "cell_type": "markdown",
   "id": "58b5988d-2973-4ef8-a1d4-1d1ffe1b71a2",
   "metadata": {},
   "source": [
    "### Open Files"
   ]
  },
  {
   "cell_type": "code",
   "execution_count": 68,
   "id": "f75e4c99-0ec7-45b5-9100-fcf257b02012",
   "metadata": {},
   "outputs": [],
   "source": [
    "filename_prefix = '/media/andrew/linux/data/strong/strong'\n",
    "\n",
    "data_filename = filename_prefix + '.dat'\n",
    "annotation_filename = filename_prefix + '_annot.dat'\n",
    "index_filename = filename_prefix + '_index.dat'\n",
    "\n",
    "data = open(data_filename, 'rb')\n",
    "annot_data = open(annotation_filename, 'rb')\n",
    "index_data = open(index_filename, 'rb')"
   ]
  },
  {
   "cell_type": "markdown",
   "id": "44b3741f-e693-4ace-b561-f36b3cb94177",
   "metadata": {},
   "source": [
    "### Decode Annotation Files"
   ]
  },
  {
   "cell_type": "code",
   "execution_count": 17,
   "id": "2d14ec4e-f86e-46f9-8486-44dcac701233",
   "metadata": {},
   "outputs": [],
   "source": [
    "annotation_records = annotation_decoder(annot_data)\n",
    "index_records = index_decoder(index_data)"
   ]
  },
  {
   "cell_type": "markdown",
   "id": "7b7153e0-5a2a-4b8f-a04d-311716a276f3",
   "metadata": {},
   "source": [
    "### Read Packets"
   ]
  },
  {
   "cell_type": "code",
   "execution_count": 40,
   "id": "3a815ef0-2130-4f20-9f1d-23c53304de21",
   "metadata": {},
   "outputs": [],
   "source": [
    "iw1 = get_packets_in_bursts(get_packets_in_swath_from_file(data_filename, 10))\n",
    "iw2 = get_packets_in_bursts(get_packets_in_swath_from_file(data_filename, 11))\n",
    "iw3 = get_packets_in_bursts(get_packets_in_swath_from_file(data_filename, 12))"
   ]
  },
  {
   "cell_type": "markdown",
   "id": "82189e95-701c-456c-9143-553a57c13e3b",
   "metadata": {},
   "source": [
    "### Misc"
   ]
  },
  {
   "cell_type": "code",
   "execution_count": 89,
   "id": "ff22d051-665d-41b3-9d24-0adb92f401e4",
   "metadata": {},
   "outputs": [
    {
     "data": {
      "text/plain": [
       "(54775.00002217293, 54775.00002217293)"
      ]
     },
     "execution_count": 89,
     "metadata": {},
     "output_type": "execute_result"
    }
   ],
   "source": [
    "first_packet = iw1[0][0]\n",
    "second_packet = iw1[0][1]\n",
    "get_gps_time_from_packet(first_packet), get_gps_time_from_packet(second_packet)"
   ]
  },
  {
   "cell_type": "code",
   "execution_count": 87,
   "id": "1f15f78e-e309-4208-805a-675ee8cf20fb",
   "metadata": {},
   "outputs": [],
   "source": [
    "packets, indexes = get_all_data_packets_from_file(data_filename)"
   ]
  },
  {
   "cell_type": "code",
   "execution_count": 91,
   "id": "a475805e-d3b5-4a92-a34a-1ab9b3e243ea",
   "metadata": {},
   "outputs": [
    {
     "data": {
      "text/plain": [
       "{'days_ul': 7987,\n",
       " 'milliseconds_ul': 54757685,\n",
       " 'microseconds_ul': 570,\n",
       " 'days_dl': 7987,\n",
       " 'milliseconds_dl': 54537885,\n",
       " 'microseconds_dl': 157,\n",
       " 'packet_length': 16933,\n",
       " 'num_transfer_frames': 1,\n",
       " 'error_flag': 0,\n",
       " 'bit_1_type': 0,\n",
       " 'bit_2_type': 0,\n",
       " 'bit_6_type': 0,\n",
       " 'spare_field': 1}"
      ]
     },
     "execution_count": 91,
     "metadata": {},
     "output_type": "execute_result"
    }
   ],
   "source": [
    "annotation_records[0]"
   ]
  },
  {
   "cell_type": "code",
   "execution_count": 111,
   "id": "7e440b4a-ee4f-4cfe-bd1e-20d182bbea04",
   "metadata": {},
   "outputs": [],
   "source": [
    "def annotation_time_to_datetime(days, milliseconds, microseconds):\n",
    "    mj2000_epoch = datetime(2000, 1, 1)\n",
    "    current_time = mj2000_epoch + timedelta(days=days, seconds=0, milliseconds=milliseconds, microseconds=microseconds)\n",
    "    return current_time\n",
    "\n",
    "def get_azimuth_time_from_record(record):\n",
    "    days = record['days_ul']\n",
    "    milliseconds = record['milliseconds_ul']\n",
    "    microseconds = record['microseconds_ul']\n",
    "    return annotation_time_to_datetime(days, milliseconds, microseconds)"
   ]
  },
  {
   "cell_type": "code",
   "execution_count": 112,
   "id": "3bf706c2-a6e5-4b2b-9c7b-bac3974533e2",
   "metadata": {},
   "outputs": [],
   "source": [
    "azimuth_times = [get_azimuth_time_from_record(record) for record in annotation_records]"
   ]
  },
  {
   "cell_type": "code",
   "execution_count": null,
   "id": "5c133a83-ac0d-49e0-97e2-5216d7ee51af",
   "metadata": {},
   "outputs": [],
   "source": []
  }
 ],
 "metadata": {
  "kernelspec": {
   "display_name": "Python 3 (ipykernel)",
   "language": "python",
   "name": "python3"
  },
  "language_info": {
   "codemirror_mode": {
    "name": "ipython",
    "version": 3
   },
   "file_extension": ".py",
   "mimetype": "text/x-python",
   "name": "python",
   "nbconvert_exporter": "python",
   "pygments_lexer": "ipython3",
   "version": "3.12.5"
  }
 },
 "nbformat": 4,
 "nbformat_minor": 5
}
