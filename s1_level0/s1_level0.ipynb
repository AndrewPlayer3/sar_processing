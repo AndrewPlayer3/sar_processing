{
 "cells": [
  {
   "cell_type": "code",
   "execution_count": 1,
   "id": "fea7d628-2a80-482f-ba50-ffafe9a54ae1",
   "metadata": {},
   "outputs": [],
   "source": [
    "import numpy as np\n",
    "\n",
    "from decoding import get_header_dict, packet_generator_from_file, packet_generator,  build_data_word_dict\n",
    "from packet import Packet\n",
    "from perf import time_packet_generation\n",
    "from utils import create_bit_string"
   ]
  },
  {
   "cell_type": "code",
   "execution_count": 2,
   "id": "51f278c4-21bb-4ee7-bff3-5516852458dd",
   "metadata": {},
   "outputs": [],
   "source": [
    "file_prefix  = 'sar_data/S1A_IW_RAW__0SDV_20240806T135224_20240806T135256_055093_06B68A_AE41.SAFE/'\n",
    "data_file = 's1a-iw-raw-s-vv-20240806t135224-20240806t135256-055093-06b68a.dat'\n",
    "raw_data_file = open(file_prefix + data_file, 'rb')"
   ]
  },
  {
   "cell_type": "code",
   "execution_count": 3,
   "id": "62df7f5d-2caa-430d-a07c-8c0876bf0fc9",
   "metadata": {},
   "outputs": [],
   "source": [
    "PacketGenerator = packet_generator(raw_data_file)"
   ]
  },
  {
   "cell_type": "code",
   "execution_count": 4,
   "id": "b8f15934-95ba-477c-a5e6-b5b1f78162b3",
   "metadata": {},
   "outputs": [],
   "source": [
    "packet = next(PacketGenerator)"
   ]
  },
  {
   "cell_type": "code",
   "execution_count": 5,
   "id": "97dfa1bc-83d8-4503-b901-b5db186776a2",
   "metadata": {},
   "outputs": [
    {
     "name": "stdout",
     "output_type": "stream",
     "text": [
      "Total Octet Count: 18558.0\n",
      "User Data Length: 18560.0\n"
     ]
    }
   ],
   "source": [
    "num_bytes = (packet.num_ie_bits + packet.num_io_bits + packet.num_qe_bits + packet.num_qo_bits) / 8\n",
    "print(f\"Total Octet Count: {num_bytes}\")\n",
    "user_data_bit_string = create_bit_string(packet.raw_user_data)\n",
    "user_data_array_bytes = len(user_data_bit_string) / 8\n",
    "print(f\"User Data Length: {user_data_array_bytes}\")\n",
    "assert len(packet.s_values) == packet.num_quads"
   ]
  },
  {
   "cell_type": "code",
   "execution_count": 6,
   "id": "40108599-cb08-4250-a13f-e1b9e0e00085",
   "metadata": {},
   "outputs": [
    {
     "data": {
      "text/plain": [
       "{'packet_version_number': '000',\n",
       " 'packet_type': '0',\n",
       " 'secondary_header_flag': '1',\n",
       " 'process_id': '1000001',\n",
       " 'process_category': '1100',\n",
       " 'sequence_flags': '11',\n",
       " 'packet_sequence_count': '10101110010101',\n",
       " 'packet_data_length': '0100100010111101'}"
      ]
     },
     "execution_count": 6,
     "metadata": {},
     "output_type": "execute_result"
    }
   ],
   "source": [
    "packet.primary_header"
   ]
  },
  {
   "cell_type": "code",
   "execution_count": 7,
   "id": "7e499475-972b-4fb5-b10b-1cef643c687a",
   "metadata": {},
   "outputs": [
    {
     "data": {
      "text/plain": [
       "{'coarse_time': '01010011110111001110110100101010',\n",
       " 'fine_time': '0001111001001101',\n",
       " 'sync_marker': '00110101001011101111100001010011',\n",
       " 'data_take_id': '00001101011011010001010111000000',\n",
       " 'ecc_number': '00001000',\n",
       " 'na_1': '0',\n",
       " 'test_mode': '000',\n",
       " 'rx_channel_id': '0000',\n",
       " 'instrument_configuration_id': '00000000000000000000000000000111',\n",
       " 'sc_data_word_index': '00011011',\n",
       " 'sc_data_word': '1011111011000011',\n",
       " 'counter_service': '00000000000000111010101110010101',\n",
       " 'pri_count': '00000000000000111011011010111000',\n",
       " 'error_flag': '0',\n",
       " 'na_2': '00',\n",
       " 'baq_mode': '01100',\n",
       " 'baq_block_length': '00011111',\n",
       " 'na_3': '00000000',\n",
       " 'range_decimation': '00001000',\n",
       " 'rx_gain': '00001000',\n",
       " 'tx_ramp_rate': '1000011001000101',\n",
       " 'pulse_start_frequency': '0011000000101111',\n",
       " 'pulse_length': '000000000000011110101111',\n",
       " 'na_4': '000',\n",
       " 'rank': '01001',\n",
       " 'pri': '000000000101010101100011',\n",
       " 'swst': '000000000000111001100001',\n",
       " 'swl': '000000000011011010011011',\n",
       " 'ssb_flag': '0',\n",
       " 'polarisation': '111',\n",
       " 'temperature_compensation': '11',\n",
       " 'na_5': '00',\n",
       " 'elevation_beam_address': '0110',\n",
       " 'na_6': '00',\n",
       " 'azimuth_beam_address': '0110000001',\n",
       " 'calibration_mode': '00',\n",
       " 'na_7': '0',\n",
       " 'tx_pulse_number': '00110',\n",
       " 'signal_type': '0000',\n",
       " 'na_8': '000',\n",
       " 'swap': '1',\n",
       " 'swath_number': '00001010',\n",
       " 'num_quadratures': '0010111010100010',\n",
       " 'na_9': '00000000'}"
      ]
     },
     "execution_count": 7,
     "metadata": {},
     "output_type": "execute_result"
    }
   ],
   "source": [
    "packet.secondary_header"
   ]
  },
  {
   "cell_type": "code",
   "execution_count": 8,
   "id": "9bfe2d61-bbdd-4fb7-a0dd-a55c8d9e36e8",
   "metadata": {},
   "outputs": [
    {
     "data": {
      "text/plain": [
       "array([-1.822137 -1.822137j, -5.468415 -5.468415j, -1.822137 -5.468415j,\n",
       "       ..., -4.80058 -14.40174j , -1.59988 -11.20104j ,\n",
       "       -1.59988  -4.80058j ])"
      ]
     },
     "execution_count": 8,
     "metadata": {},
     "output_type": "execute_result"
    }
   ],
   "source": [
    "packet.complex_s_values"
   ]
  },
  {
   "cell_type": "code",
   "execution_count": 9,
   "id": "d2e3e3a5-07aa-4811-9c56-2c59c687376c",
   "metadata": {},
   "outputs": [
    {
     "data": {
      "text/plain": [
       "[{'dummy_data': '0000000000000000',\n",
       "  'x_axis_position': '1100000101000000011111011001001110000001000100110010010011001101',\n",
       "  'y_axis_position': '1100000101010100011101111011000010110010011001110100111010000010',\n",
       "  'z_axis_position': '0100000101001111000001110010101110111010001000111111000011011111',\n",
       "  'x_axis_velocity': '11000101010001111010101110101001',\n",
       "  'y_axis_velocity': '11000101010011101011011110011101',\n",
       "  'z_axis_velocity': '11000101101111001101111001001110',\n",
       "  'pod_data_stamp': '0000000001010011110111001110110100101001000000000000000000000000',\n",
       "  'q0_quaternion': '10111110111010001101010001011110',\n",
       "  'q1_quaternion': '10111111001111101110100100010011',\n",
       "  'q2_quaternion': '10111110110000111111000100001001',\n",
       "  'q3_quaternion': '00111110100110100001111110101100',\n",
       "  'omega_x': '10111000100110000100011001100000',\n",
       "  'omega_y': '10111010011101011110011110011111',\n",
       "  'omega_z': '10111010000000100001100011110000',\n",
       "  'data_time_stamp': '0000000001010011110111001110110100101000111000000000000000000000',\n",
       "  'pointing_status': '0000010100000000',\n",
       "  'temp_status': '0000000000010001',\n",
       "  'tile_1_1': '0101011101011110',\n",
       "  'tile_1_2': '0101110001010100',\n",
       "  'tile_2_2': '0101101001011000',\n",
       "  'tile_3_3': '0101010101011101',\n",
       "  'tile_3_4': '0110000101010101',\n",
       "  'tile_4_4': '0101111001011010',\n",
       "  'tile_5_5': '0101011001011101',\n",
       "  'tile_5_6': '0110001001011000',\n",
       "  'tile_6_6': '0101111001010100',\n",
       "  'tile_7_7': '0101101001100000',\n",
       "  'tile_7_8': '0101111001010100',\n",
       "  'tile_8_8': '0101101101011010',\n",
       "  'tile_9_9': '0101100001011101',\n",
       "  'tile_9_10': '0110000101011000',\n",
       "  'tile_10_10': '0101111001011111',\n",
       "  'tile_11_11': '0101000001010101',\n",
       "  'tile_11_12': '0101111101010100',\n",
       "  'tile_12_12': '0101101101010111',\n",
       "  'tile_13_13': '0101100001100000',\n",
       "  'tile_13_14': '0101101001010010',\n",
       "  'tile_14_14': '0101101001010000',\n",
       "  'na_tgu_temp': '0000000001011001'},\n",
       " {'dummy_data': '0000000000000000',\n",
       "  'x_axis_position': '1100000101000000011111011001001110000001000100110010010011001101',\n",
       "  'y_axis_position': '1100000101010100011101111011000010110010011001110100111010000010',\n",
       "  'z_axis_position': '0100000101001111000001110010101110111010001000111111000011011111',\n",
       "  'x_axis_velocity': '11000101010001111010101110101001',\n",
       "  'y_axis_velocity': '11000101010011101011011110011101',\n",
       "  'z_axis_velocity': '11000101101111001101111001001110',\n",
       "  'pod_data_stamp': '0000000001010011110111001110110100101001000000000000000000000000',\n",
       "  'q0_quaternion': '10111110111010001101010001011110',\n",
       "  'q1_quaternion': '10111111001111101110100100010011',\n",
       "  'q2_quaternion': '10111110110000111111000100001001',\n",
       "  'q3_quaternion': '00111110100110100001111110101100',\n",
       "  'omega_x': '10111000100110000100011001100000',\n",
       "  'omega_y': '10111010011101011110011110011111',\n",
       "  'omega_z': '10111010000000100001100011110000',\n",
       "  'data_time_stamp': '0000000001010011110111001110110100101000111000000000000000000000',\n",
       "  'pointing_status': '0000010100000000',\n",
       "  'temp_status': '0000000000010001',\n",
       "  'tile_1_1': '0101011101011110',\n",
       "  'tile_1_2': '0101110001010100',\n",
       "  'tile_2_2': '0101101001011000',\n",
       "  'tile_3_3': '0101010101011101',\n",
       "  'tile_3_4': '0110000101010101',\n",
       "  'tile_4_4': '0101111001011010',\n",
       "  'tile_5_5': '0101011001011101',\n",
       "  'tile_5_6': '0110001001011000',\n",
       "  'tile_6_6': '0101111001010100',\n",
       "  'tile_7_7': '0101101001100000',\n",
       "  'tile_7_8': '0101111001010100',\n",
       "  'tile_8_8': '0101101101011010',\n",
       "  'tile_9_9': '0101100001011101',\n",
       "  'tile_9_10': '0110000101011000',\n",
       "  'tile_10_10': '0101111001011111',\n",
       "  'tile_11_11': '0101000001010101',\n",
       "  'tile_11_12': '0101111101010100',\n",
       "  'tile_12_12': '0101101101010111',\n",
       "  'tile_13_13': '0101100001100000',\n",
       "  'tile_13_14': '0101101001010010',\n",
       "  'tile_14_14': '0101101001010000',\n",
       "  'na_tgu_temp': '0000000001011001'},\n",
       " {'dummy_data': '0000000000000000',\n",
       "  'x_axis_position': '0000000000000000000000000000000000000000000000000000000000000000',\n",
       "  'y_axis_position': '0000000000000000000000000000000000000000000000000000000000000000',\n",
       "  'z_axis_position': '0000000000000000000000000000000000000000000000000000000000000000',\n",
       "  'x_axis_velocity': '00000000000000000000000000000000',\n",
       "  'y_axis_velocity': '00000000000000000000000000000000',\n",
       "  'z_axis_velocity': '00000000000000000000000000000000',\n",
       "  'pod_data_stamp': '00000000000000000000000000000000',\n",
       "  'q0_quaternion': '00000000000000000000000000000000',\n",
       "  'q1_quaternion': '00000000000000000000000000000000',\n",
       "  'q2_quaternion': '00000000000000001111000100001001',\n",
       "  'q3_quaternion': '00111110100110100001111110101100',\n",
       "  'omega_x': '10111000100110000100011001100000',\n",
       "  'omega_y': '10111010011101011110011110011111',\n",
       "  'omega_z': '10111010000000100001100011110000',\n",
       "  'data_time_stamp': '0000000001010011110111001110110100101000111000000000000000000000',\n",
       "  'pointing_status': '0000010100000000',\n",
       "  'temp_status': '0000000000010001',\n",
       "  'tile_1_1': '0101011101011110',\n",
       "  'tile_1_2': '0101110001010100',\n",
       "  'tile_2_2': '0101101001011000',\n",
       "  'tile_3_3': '0101010101011101',\n",
       "  'tile_3_4': '0110000101010101',\n",
       "  'tile_4_4': '0101111001011010',\n",
       "  'tile_5_5': '0101011001011101',\n",
       "  'tile_5_6': '0000000000000000',\n",
       "  'tile_6_6': '0000000000000000',\n",
       "  'tile_7_7': '0000000000000000',\n",
       "  'tile_7_8': '0000000000000000',\n",
       "  'tile_8_8': '0000000000000000',\n",
       "  'tile_9_9': '0000000000000000',\n",
       "  'tile_9_10': '0000000000000000',\n",
       "  'tile_10_10': '0000000000000000',\n",
       "  'tile_11_11': '0000000000000000',\n",
       "  'tile_11_12': '0000000000000000',\n",
       "  'tile_12_12': '0000000000000000',\n",
       "  'tile_13_13': '0000000000000000',\n",
       "  'tile_13_14': '0000000000000000',\n",
       "  'tile_14_14': '0000000000000000',\n",
       "  'na_tgu_temp': '0000000000000000'}]"
      ]
     },
     "execution_count": 9,
     "metadata": {},
     "output_type": "execute_result"
    }
   ],
   "source": [
    "build_data_word_dict(PacketGenerator, 150, log=False)"
   ]
  },
  {
   "cell_type": "code",
   "execution_count": 10,
   "id": "fd6a2edf-54e8-424b-b572-c2679306b715",
   "metadata": {},
   "outputs": [
    {
     "name": "stdout",
     "output_type": "stream",
     "text": [
      "Decoded Packet in 0.2388463020324707s.\n",
      "Decoded Packet in 0.2576720714569092s.\n",
      "Decoded Packet in 0.23844289779663086s.\n",
      "Decoded Packet in 0.23850798606872559s.\n",
      "Decoded Packet in 0.23736071586608887s.\n",
      "Decoded Packet in 0.23631715774536133s.\n",
      "Decoded Packet in 0.23378491401672363s.\n",
      "Decoded Packet in 0.23479008674621582s.\n",
      "Decoded Packet in 0.23708271980285645s.\n",
      "Decoded Packet in 0.25721144676208496s.\n",
      "---\n",
      "Decoded 10 in 2.4100162982940674s.\n",
      "___\n",
      "Mean Decoding Time: 0.24100162982940673s.\n"
     ]
    },
    {
     "data": {
      "text/plain": [
       "(2.4100162982940674, np.float64(0.24100162982940673))"
      ]
     },
     "execution_count": 10,
     "metadata": {},
     "output_type": "execute_result"
    }
   ],
   "source": [
    "time_packet_generation(PacketGenerator, 10, 1)"
   ]
  }
 ],
 "metadata": {
  "kernelspec": {
   "display_name": "Python 3 (ipykernel)",
   "language": "python",
   "name": "python3"
  },
  "language_info": {
   "codemirror_mode": {
    "name": "ipython",
    "version": 3
   },
   "file_extension": ".py",
   "mimetype": "text/x-python",
   "name": "python",
   "nbconvert_exporter": "python",
   "pygments_lexer": "ipython3",
   "version": "3.12.4"
  }
 },
 "nbformat": 4,
 "nbformat_minor": 5
}
