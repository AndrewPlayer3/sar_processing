{
 "cells": [
  {
   "cell_type": "markdown",
   "id": "76b4042e-bfa2-4b67-a22e-cc68caf62a35",
   "metadata": {},
   "source": [
    "### Imports"
   ]
  },
  {
   "cell_type": "code",
   "execution_count": 1,
   "id": "402c7817-0df8-40db-9ceb-7c1f4def21dc",
   "metadata": {},
   "outputs": [],
   "source": [
    "import struct\n",
    "import xml.etree.ElementTree as ET\n",
    "\n",
    "from datetime import datetime, timedelta, timezone\n",
    "\n",
    "import numpy as np\n",
    "import matplotlib.pyplot as plt\n",
    "\n",
    "from matplotlib import mlab\n",
    "from scipy.constants import pi, c\n",
    "from scipy.fft import fft, ifft, fftshift, ifftshift, ifft2, fft2\n",
    "from scipy.spatial.transform import Rotation\n",
    "from scipy.interpolate import interp1d\n",
    "\n",
    "from decoding import get_header_dict, packet_generator_from_file, packet_generator, build_data_word_dict, index_decoder, annotation_decoder\n",
    "from packet import Packet\n",
    "from utils import create_bit_string, find_packet_of_type, time_packet_generation\n",
    "from structs import SUB_COMM_KEY_POS, SUB_COMM_KEY_VAL, WORD_SIZE, F_REF"
   ]
  },
  {
   "cell_type": "markdown",
   "id": "fdfed7d9-8130-4de6-bc02-7be7fcdb971b",
   "metadata": {},
   "source": [
    "### Packet Decoding Functions"
   ]
  },
  {
   "cell_type": "code",
   "execution_count": 2,
   "id": "4fb3e349-e076-484c-87b6-1c4691bc7a3f",
   "metadata": {
    "jupyter": {
     "source_hidden": true
    }
   },
   "outputs": [],
   "source": [
    "def get_all_data_packets_from_file(filename):\n",
    "    packets = []\n",
    "    indexes = []\n",
    "    index = 0\n",
    "    with open(filename, 'rb') as data:\n",
    "        PacketGenerator = packet_generator(data)\n",
    "        while (data):\n",
    "            try:\n",
    "                packet = next(PacketGenerator)\n",
    "                packets.append(packet)\n",
    "                indexes.append(index)\n",
    "                index += 1\n",
    "            except ValueError as ve:\n",
    "                break\n",
    "    return packets, indexes\n",
    "\n",
    "def get_packets_in_swath_from_file(filename, swath_num):\n",
    "    with open(filename, 'rb') as file:\n",
    "        return get_packets_in_swath(file, swath_num)\n",
    "\n",
    "def get_packets_in_swath(data, swath_num):\n",
    "    PacketGenerator = packet_generator(data)\n",
    "    swath_packets = []\n",
    "    while (data):\n",
    "        try:\n",
    "            packet = next(PacketGenerator)\n",
    "            if packet.data_format() == 'D':\n",
    "                if packet.get_secondary_header()['swath_number'] == swath_num:\n",
    "                    swath_packets.append(packet)\n",
    "        except ValueError as ve:\n",
    "            break\n",
    "    return swath_packets  \n",
    "\n",
    "def get_packets_in_bursts(swath_packets):\n",
    "    bursts = []\n",
    "    burst_packets = []\n",
    "    previous_az = 0\n",
    "    index = 0\n",
    "    for packet in swath_packets:\n",
    "        az = packet.get_secondary_header()['azimuth_beam_address']\n",
    "        if index == 0:\n",
    "            previous_az = az\n",
    "        if az != previous_az and az != previous_az + 1:\n",
    "            bursts.append(burst_packets)\n",
    "            burst_packets = []\n",
    "        burst_packets.append(packet)\n",
    "        previous_az = az\n",
    "        if index == len(swath_packets) - 1:\n",
    "            bursts.append(burst_packets)\n",
    "        index += 1\n",
    "    return bursts\n",
    "\n",
    "def get_packets_in_burst(swath_packets, burst_num):\n",
    "    bursts = get_packets_in_bursts(swath_packets)\n",
    "    return bursts[burst_num]\n",
    "\n",
    "def decode_signals(packets):\n",
    "    signals = []\n",
    "    index = 0\n",
    "    for packet in packets:\n",
    "        if index % 100 == 0:\n",
    "            print(f\"{index} of {len(packets)}\")\n",
    "        signals.append(packet.get_complex_samples()[0])\n",
    "        index += 1\n",
    "    return np.asarray(signals)"
   ]
  },
  {
   "cell_type": "markdown",
   "id": "49f8d8d4-c276-42d3-a1a3-10bcc22cf1da",
   "metadata": {},
   "source": [
    "### Time Functions"
   ]
  },
  {
   "cell_type": "code",
   "execution_count": 3,
   "id": "7ab9ef46-4a20-4300-bd4f-89d99c50fd47",
   "metadata": {
    "jupyter": {
     "source_hidden": true
    }
   },
   "outputs": [],
   "source": [
    "def mjd2000_time_to_datetime(gps_time_seconds):\n",
    "    mjd2000_epoch = datetime(2000, 1, 1)\n",
    "    current_time = gps_epoch + timedelta(seconds=gps_time_seconds)\n",
    "\n",
    "def gps_time_to_datetime(gps_time_seconds):\n",
    "    # GPS epoch is January 6, 1980, 00:00:00 UTC\n",
    "    gps_epoch = datetime(1980, 1, 6)\n",
    "    current_time = gps_epoch + timedelta(seconds=gps_time_seconds)\n",
    "    return current_time\n",
    "    \n",
    "def gps_time_to_seconds_since_midnight(gps_time_seconds):\n",
    "    # GPS epoch is January 6, 1980, 00:00:00 UTC\n",
    "    gps_epoch = datetime(1980, 1, 6)\n",
    "    whole_seconds = int(gps_time_seconds)\n",
    "    fractional_seconds = gps_time_seconds - whole_seconds\n",
    "    current_time = gps_epoch + timedelta(seconds=whole_seconds)\n",
    "    seconds_since_midnight = (\n",
    "        current_time.hour * 3600 +\n",
    "        current_time.minute * 60 +\n",
    "        current_time.second +\n",
    "        fractional_seconds\n",
    "    )\n",
    "    return seconds_since_midnight\n",
    "\n",
    "def data_word_time_stamp_to_seconds(time_stamp):\n",
    "    time_stamp = time_stamp[8:64]\n",
    "    num = 0\n",
    "    for i in range(0, 32):\n",
    "        num += int(time_stamp[i]) * (2 ** (32-i-1))\n",
    "    for i in range(33, 56):\n",
    "        num += int(time_stamp[i]) * (2 ** (-i))\n",
    "    return num\n",
    "\n",
    "def get_gps_time_from_packet(packet):\n",
    "    header = packet.get_secondary_header()\n",
    "    seconds = header['coarse_time']\n",
    "    sub_seconds = 1 / header['fine_time']\n",
    "    return gps_time_to_seconds_since_midnight(seconds + sub_seconds)\n",
    "\n",
    "def annotation_time_to_datetime(days, milliseconds, microseconds):\n",
    "    mj2000_epoch = datetime(2000, 1, 1)\n",
    "    current_time = mj2000_epoch + timedelta(days=days, seconds=0, milliseconds=milliseconds, microseconds=microseconds)\n",
    "    return current_time\n",
    "\n",
    "def get_azimuth_time_from_record(record):\n",
    "    days = record['days_ul']\n",
    "    milliseconds = record['milliseconds_ul']\n",
    "    microseconds = record['microseconds_ul']\n",
    "    return annotation_time_to_datetime(days, milliseconds, microseconds)"
   ]
  },
  {
   "cell_type": "markdown",
   "id": "115cfca3-4310-4912-b184-0103ab2b8ebd",
   "metadata": {},
   "source": [
    "### State Vector Functions"
   ]
  },
  {
   "cell_type": "code",
   "execution_count": 4,
   "id": "44921af5-2a9d-476f-9b79-51930a72be67",
   "metadata": {},
   "outputs": [],
   "source": [
    "def to_float32(bit_string):\n",
    "    int_representation = int(bit_string, 2)\n",
    "    float_value = struct.unpack('f', struct.pack('I', int_representation))[0]\n",
    "    return float_value\n",
    "\n",
    "def to_float64(bit_string):\n",
    "    int_representation = int(bit_string, 2)\n",
    "    float_value = struct.unpack('d', struct.pack('Q', int_representation))[0]\n",
    "    return float_value\n",
    "\n",
    "def build_data_word_dict(packets, indexes, times):\n",
    "    data_word_dicts = []\n",
    "    sub_comm_dict = SUB_COMM_KEY_VAL.copy()\n",
    "    initial_data_word_index = 0\n",
    "    sc_data_word_index = 0\n",
    "    for i in range(len(packets)):\n",
    "        packet = packets[i]\n",
    "        secondary_header = packet.get_secondary_header()\n",
    "        sc_data_word_index = secondary_header['sc_data_word_index']\n",
    "        if i == 0:\n",
    "            initial_data_word_index = sc_data_word_index\n",
    "        else:\n",
    "            if sc_data_word_index == initial_data_word_index:\n",
    "                sub_comm_dict['azimuth_time'] = times[indexes[i]]\n",
    "                data_word_dicts.append(sub_comm_dict)\n",
    "                sub_comm_dict = SUB_COMM_KEY_VAL.copy()\n",
    "        data_word =  secondary_header['sc_data_word']\n",
    "        key, pos = SUB_COMM_KEY_POS[sc_data_word_index]\n",
    "        pos = pos * WORD_SIZE\n",
    "        sub_comm_dict[key] = sub_comm_dict[key][0:pos] + data_word + sub_comm_dict[key][pos+WORD_SIZE:]\n",
    "    if sc_data_word_index != initial_data_word_index:\n",
    "        data_word_dicts.append(sub_comm_dict)\n",
    "    for i in range(len(data_word_dicts)):\n",
    "        data_word_dicts[i]['x_axis_position'] = to_float64(data_word_dicts[i]['x_axis_position'])\n",
    "        data_word_dicts[i]['y_axis_position'] = to_float64(data_word_dicts[i]['y_axis_position'])\n",
    "        data_word_dicts[i]['z_axis_position'] = to_float64(data_word_dicts[i]['z_axis_position'])\n",
    "        data_word_dicts[i]['x_axis_velocity'] = to_float32(data_word_dicts[i]['x_axis_velocity'])\n",
    "        data_word_dicts[i]['y_axis_velocity'] = to_float32(data_word_dicts[i]['y_axis_velocity'])\n",
    "        data_word_dicts[i]['z_axis_velocity'] = to_float32(data_word_dicts[i]['z_axis_velocity'])\n",
    "        data_word_dicts[i]['q0_quaternion']   = to_float32(data_word_dicts[i]['q0_quaternion'])\n",
    "        data_word_dicts[i]['q1_quaternion']   = to_float32(data_word_dicts[i]['q1_quaternion'])\n",
    "        data_word_dicts[i]['q2_quaternion']   = to_float32(data_word_dicts[i]['q2_quaternion'])\n",
    "        data_word_dicts[i]['q3_quaternion']   = to_float32(data_word_dicts[i]['q3_quaternion'])\n",
    "        data_word_dicts[i]['omega_x']         = to_float32(data_word_dicts[i]['omega_x'])\n",
    "        data_word_dicts[i]['omega_y']         = to_float32(data_word_dicts[i]['omega_y'])\n",
    "        data_word_dicts[i]['omega_z']         = to_float32(data_word_dicts[i]['omega_z'])\n",
    "    return data_word_dicts\n",
    "\n",
    "def get_times_from_subcomm_dicts(subcomm_dicts):\n",
    "    times = []\n",
    "    for subcomm_dict in subcomm_dicts[:-1]:\n",
    "        gps_time = data_word_time_stamp_to_seconds(subcomm_dict[\"data_time_stamp\"])\n",
    "        data_time = gps_time_to_datetime(gps_time)\n",
    "        times.append(data_time)\n",
    "    return np.asarray(times)\n",
    "\n",
    "def get_velocities_from_subcomm_dicts(subcomm_dicts):\n",
    "    velocities = []\n",
    "    for subcomm_dict in subcomm_dicts[:-1]:\n",
    "        vx = subcomm_dict[\"x_axis_velocity\"]\n",
    "        vy = subcomm_dict[\"y_axis_velocity\"]\n",
    "        vz = subcomm_dict[\"z_axis_velocity\"]\n",
    "        velocities.append([vx, vy, vz])\n",
    "    return np.asarray(velocities, dtype=np.float64)\n",
    "\n",
    "def get_positions_from_subcomm_dicts(subcomm_dicts):\n",
    "    positions = []\n",
    "    for subcomm_dict in subcomm_dicts[:-1]:\n",
    "        px = subcomm_dict[\"x_axis_position\"]\n",
    "        py = subcomm_dict[\"y_axis_position\"]\n",
    "        pz = subcomm_dict[\"z_axis_position\"]\n",
    "        positions.append([px, py, pz])\n",
    "    return np.asarray(positions, dtype=np.float64)\n",
    "\n",
    "def quaternion_to_rotation_matrix(q):\n",
    "    \"\"\"https://forum.step.esa.int/uploads/default/original/2X/3/315f415284743cf42be03a464121df1ca337a26d.pdf\"\"\"\n",
    "    q0, q1, q2, q3 = q\n",
    "    e00 = q0**2 - q1**2 - q2**2 + q3**2\n",
    "    e01 = 2 * (q0 * q1 + q2 * q3)\n",
    "    e02 = 2 * (q0 * q2 - q1 * q3)\n",
    "    e10 = 2 * (q0 * q1 - q2 * q3)\n",
    "    e11 = -q0**2 + q1**2 - q2**2 + q3**2\n",
    "    e12 = 2 * (q1 * q2 + q0 * q3)\n",
    "    e20 = 2 * (q0 * q2 + q1 * q3)\n",
    "    e21 = 2 * (q1 * q2 - q0 * q3)\n",
    "    e22 = -q0**2 - q1**2 + q2**2 + q3**2\n",
    "    R = np.array([\n",
    "        [e00, e01, e02],\n",
    "        [e10, e11, e12],\n",
    "        [e20, e21, e22]\n",
    "    ])\n",
    "    return R\n",
    "\n",
    "def get_quaternions_from_subcomm_dicts(subcomm_dicts):\n",
    "    quaternions = []\n",
    "    for subcomm_dict in subcomm_dicts[:-1]:\n",
    "        q0 = subcomm_dict['q0_quaternion']\n",
    "        q1 = subcomm_dict['q1_quaternion']\n",
    "        q2 = subcomm_dict['q2_quaternion']\n",
    "        q3 = subcomm_dict['q3_quaternion']\n",
    "        m_eo_cfi = quaternion_to_rotation_matrix([q1, q2, q3, q0])\n",
    "        m = np.asarray([-m_eo_cfi[1], -m_eo_cfi[0], -m_eo_cfi[2]])\n",
    "        rotation_eo_cfi_sat_att = Rotation.from_matrix(m)\n",
    "        q0, q1, q2, q3 = rotation_eo_cfi_sat_att.as_quat()\n",
    "        quaternions.append([-q0, -q1, -q2, q3])\n",
    "    return np.asarray(quaternions, dtype=np.float64)\n",
    "\n",
    "def get_angular_rates_from_subcomm_dicts(subcomm_dicts):\n",
    "    angular_rates = []\n",
    "    for subcomm_dict in subcomm_dicts[:-1]:\n",
    "        omega_x = subcomm_dict['omega_x']\n",
    "        omega_y = subcomm_dict['omega_y']\n",
    "        omega_z = subcomm_dict['omega_z']\n",
    "        angular_rates.append([omega_x, omega_y, omega_z])\n",
    "    return np.asarray(angular_rates, dtype=np.float64)\n",
    "\n",
    "def quaternion_to_rotation_matrix_for_euler(q):\n",
    "    q0, q1, q2, q3 = q\n",
    "    R = np.array([\n",
    "        [1 - 2 * (q2**2 + q3**2), 2 * (q1*q2 - q3*q0), 2 * (q1*q3 + q2*q0)],\n",
    "        [2 * (q1*q2 + q3*q0), 1 - 2 * (q1**2 + q3**2), 2 * (q2*q3 - q1*q0)],\n",
    "        [2 * (q1*q3 - q2*q0), 2 * (q2*q3 + q1*q0), 1 - 2 * (q1**2 + q2**2)]\n",
    "    ])\n",
    "    return R\n",
    "\n",
    "def get_euler_angles(quaternions):\n",
    "    \"\"\" Thanks to this\n",
    "    https://www.researchgate.net/post/Can-someone-explain-the-Sentinel-1-orientation-quanternion-vs-pitch-roll-yaw-numbers-to-me\n",
    "    and this\n",
    "    https://forum.step.esa.int/uploads/default/original/2X/3/315f415284743cf42be03a464121df1ca337a26d.pdf\n",
    "    \"\"\"\n",
    "    euler_angles = []\n",
    "    for quaternion in quaternions:\n",
    "        q0, q1, q2, q3 = quaternion\n",
    "        rotation = Rotation.from_quat(quaternion).as_euler('YXZ', degrees=True)\n",
    "        pitch = -rotation[0]\n",
    "        roll = -rotation[1]\n",
    "        yaw = rotation[2]\n",
    "        euler = (np.asarray([roll, pitch, yaw]) * 2 * pi / 360.0)\n",
    "        euler_angles.append(euler)\n",
    "    return np.asarray(euler_angles)\n",
    "\n",
    "def get_state_vectors_from_subcomm_dicts(subcomm_dicts):\n",
    "    times = list(get_times_from_subcomm_dicts(subcomm_dicts))\n",
    "    unique_times = list(dict.fromkeys(times))\n",
    "    unique_indexes = [times.index(unique_time) for unique_time in unique_times]\n",
    "    quaternions = get_quaternions_from_subcomm_dicts(subcomm_dicts)[unique_indexes]\n",
    "    return {\n",
    "        \"time\": unique_times,\n",
    "        \"azimuth_time\": [subcomm_dicts[i][\"azimuth_time\"] for i in unique_indexes],\n",
    "        \"velocity\": get_velocities_from_subcomm_dicts(subcomm_dicts)[unique_indexes],\n",
    "        \"position\": get_positions_from_subcomm_dicts(subcomm_dicts)[unique_indexes],\n",
    "        \"quaternion\": get_quaternions_from_subcomm_dicts(subcomm_dicts)[unique_indexes],\n",
    "        \"angular_rate\": get_angular_rates_from_subcomm_dicts(subcomm_dicts)[unique_indexes],\n",
    "        \"euler_angle\": get_euler_angles(quaternions)  \n",
    "    }"
   ]
  },
  {
   "cell_type": "code",
   "execution_count": 5,
   "id": "f75e4c99-0ec7-45b5-9100-fcf257b02012",
   "metadata": {},
   "outputs": [],
   "source": [
    "filename_prefix = '/media/andrew/linux/data/strong/strong'\n",
    "\n",
    "data_filename = filename_prefix + '.dat'\n",
    "annotation_filename = filename_prefix + '_annot.dat'\n",
    "index_filename = filename_prefix + '_index.dat'\n",
    "\n",
    "data = open(data_filename, 'rb')\n",
    "annot_data = open(annotation_filename, 'rb')\n",
    "index_data = open(index_filename, 'rb')"
   ]
  },
  {
   "cell_type": "markdown",
   "id": "44b3741f-e693-4ace-b561-f36b3cb94177",
   "metadata": {},
   "source": [
    "#### Decode Annotation Files"
   ]
  },
  {
   "cell_type": "code",
   "execution_count": 6,
   "id": "2d14ec4e-f86e-46f9-8486-44dcac701233",
   "metadata": {},
   "outputs": [],
   "source": [
    "annotation_records = annotation_decoder(annot_data)\n",
    "index_records = index_decoder(index_data)"
   ]
  },
  {
   "cell_type": "markdown",
   "id": "7b7153e0-5a2a-4b8f-a04d-311716a276f3",
   "metadata": {},
   "source": [
    "#### Read Packets"
   ]
  },
  {
   "cell_type": "code",
   "execution_count": 7,
   "id": "3a815ef0-2130-4f20-9f1d-23c53304de21",
   "metadata": {},
   "outputs": [],
   "source": [
    "iw1 = get_packets_in_bursts(get_packets_in_swath_from_file(data_filename, 10))\n",
    "iw2 = get_packets_in_bursts(get_packets_in_swath_from_file(data_filename, 11))\n",
    "iw3 = get_packets_in_bursts(get_packets_in_swath_from_file(data_filename, 12))"
   ]
  },
  {
   "cell_type": "markdown",
   "id": "82189e95-701c-456c-9143-553a57c13e3b",
   "metadata": {},
   "source": [
    "#### Getting State Vectors"
   ]
  },
  {
   "cell_type": "code",
   "execution_count": 8,
   "id": "1f15f78e-e309-4208-805a-675ee8cf20fb",
   "metadata": {},
   "outputs": [],
   "source": [
    "packets, indexes = get_all_data_packets_from_file(data_filename)\n",
    "azimuth_times = [get_azimuth_time_from_record(record) for record in annotation_records]"
   ]
  },
  {
   "cell_type": "code",
   "execution_count": 9,
   "id": "4c932028-5459-4e98-b8ee-f9beabd18ea7",
   "metadata": {},
   "outputs": [],
   "source": [
    "subcomm_dicts = build_data_word_dict(packets, indexes, azimuth_times)\n",
    "state_vectors = get_state_vectors_from_subcomm_dicts(subcomm_dicts)"
   ]
  },
  {
   "cell_type": "code",
   "execution_count": 10,
   "id": "3756ddf8-175a-41d0-accc-6ed81ebb812f",
   "metadata": {},
   "outputs": [
    {
     "data": {
      "text/plain": [
       "array([[ 0.12794492,  0.44567544, -0.81261006,  0.35308412],\n",
       "       [ 0.12819179,  0.44524899, -0.81273937,  0.35323494],\n",
       "       [ 0.12843827,  0.44482148, -0.81286891,  0.35338591],\n",
       "       [ 0.12868545,  0.44439358, -0.81299862,  0.35353592],\n",
       "       [ 0.1289318 ,  0.44396596, -0.81312808,  0.35368564],\n",
       "       [ 0.12917995,  0.44353914, -0.81325661,  0.35383507]])"
      ]
     },
     "execution_count": 10,
     "metadata": {},
     "output_type": "execute_result"
    }
   ],
   "source": [
    "state_vectors[\"quaternion\"][0:6]"
   ]
  },
  {
   "cell_type": "code",
   "execution_count": 11,
   "id": "36a10f2d-fb56-4f02-a12a-dffeac542a12",
   "metadata": {},
   "outputs": [
    {
     "data": {
      "text/plain": [
       "array([[ -54.55487657,  -10.61061144, -127.54675134],\n",
       "       [ -54.51883829,  -10.54076813, -127.57596517],\n",
       "       [ -54.48265178,  -10.47098447, -127.60510513],\n",
       "       [ -54.44646696,  -10.40107439, -127.63437756],\n",
       "       [ -54.4102649 ,  -10.33140197, -127.66349329],\n",
       "       [ -54.37425117,  -10.26164268, -127.69256476]])"
      ]
     },
     "execution_count": 11,
     "metadata": {},
     "output_type": "execute_result"
    }
   ],
   "source": [
    "(state_vectors[\"euler_angle\"][0:6] * 360) / (2 * pi)"
   ]
  },
  {
   "cell_type": "code",
   "execution_count": 12,
   "id": "d3cf9551-3813-4045-a68c-a137e55dc395",
   "metadata": {},
   "outputs": [
    {
     "data": {
      "text/plain": [
       "array([[ 6.52783347e-05, -9.45762265e-04, -4.81955765e-04],\n",
       "       [ 6.58083009e-05, -9.47262219e-04, -4.81957453e-04],\n",
       "       [ 6.62077146e-05, -9.46137414e-04, -4.81729832e-04],\n",
       "       [ 6.51473747e-05, -9.46511456e-04, -4.81725991e-04],\n",
       "       [ 6.87287320e-05, -9.44263127e-04, -4.81049938e-04],\n",
       "       [ 6.48850400e-05, -9.43512481e-04, -4.80807212e-04]])"
      ]
     },
     "execution_count": 12,
     "metadata": {},
     "output_type": "execute_result"
    }
   ],
   "source": [
    "state_vectors['angular_rate'][0:6]"
   ]
  },
  {
   "cell_type": "markdown",
   "id": "4e3a6e6f-9afe-453a-860c-43efc6c59eb8",
   "metadata": {},
   "source": [
    "#### Interpolating State Vectors:\n",
    "\n",
    "There are generally far fewer state vectors than burst samples, as the state vectors are sampled at a rate of 1 Hz. Thus, they need to be interpolated as a function of time, so that the packets can get an approximate state vector for their respective azimuth time."
   ]
  },
  {
   "cell_type": "code",
   "execution_count": 13,
   "id": "a6fbf28b-413c-4fe9-9fe4-e906594a62af",
   "metadata": {},
   "outputs": [],
   "source": [
    "def datetime_to_seconds(datetimes):\n",
    "    gps_epoch = datetime(1980, 1, 6)\n",
    "    seconds = np.array([(dt - gps_epoch).total_seconds() for dt in datetimes])\n",
    "    return seconds\n",
    "\n",
    "def interpolate_state_vector(state_vector, state_vector_times):\n",
    "    time_seconds = datetime_to_seconds(state_vector_times)\n",
    "    interp_functions = []\n",
    "    for i in range(state_vector.shape[1]):\n",
    "        interp_functions.append(interp1d(time_seconds, state_vector[:, i], kind='linear', fill_value=\"extrapolate\"))\n",
    "    return tuple(interp_functions)"
   ]
  },
  {
   "cell_type": "code",
   "execution_count": 14,
   "id": "0bfbb58a-e5e8-4858-a469-58b7c4e36921",
   "metadata": {},
   "outputs": [],
   "source": [
    "x_interp, y_interp, z_interp = interpolate_state_vector(state_vectors[\"position\"], state_vectors[\"time\"])\n",
    "vx_interp, vy_interp, vz_interp = interpolate_state_vector(state_vectors[\"velocity\"], state_vectors[\"time\"])\n",
    "q0_interp, q1_interp, q2_interp, q3_interp = interpolate_state_vector(state_vectors[\"quaternion\"], state_vectors[\"time\"])\n",
    "roll_interp, pitch_interp, yaw_interp = interpolate_state_vector(state_vectors[\"euler_angle\"], state_vectors[\"time\"])"
   ]
  },
  {
   "cell_type": "code",
   "execution_count": 15,
   "id": "ca774e82-bab0-4ff0-9bf4-413c955f79aa",
   "metadata": {},
   "outputs": [],
   "source": [
    "azimuth_times_in_seconds = datetime_to_seconds(azimuth_times)\n",
    "t0 = azimuth_times_in_seconds[0]"
   ]
  },
  {
   "cell_type": "code",
   "execution_count": 16,
   "id": "4198c99d-a5a5-46ca-b705-ba4cd6008860",
   "metadata": {},
   "outputs": [],
   "source": [
    "x, y, z = x_interp(t0), y_interp(t0), z_interp(t0)\n",
    "vx, vy, vz = vx_interp(t0), vy_interp(t0), vz_interp(t0)\n",
    "q0, q1, q2, q3 = q0_interp(t0), q1_interp(t0), q2_interp(t0), q3_interp(t0)"
   ]
  },
  {
   "cell_type": "code",
   "execution_count": 17,
   "id": "126ae13b-00b0-45ad-938d-3878f2158e6c",
   "metadata": {},
   "outputs": [
    {
     "name": "stdout",
     "output_type": "stream",
     "text": [
      "Initial Position: (array(3970171.00947486), array(2563537.49608503), array(5258569.95735754))\n",
      "Initial Velocity: (array(-3535.8000866), array(-4597.4070823), array(4898.55762181))\n",
      "Initial Quaternions: (array(0.12391744), array(0.45263269), array(-0.81050048), array(0.35062347))\n",
      "Initial Roll, Pitch, Yaw: [[ -55.13982139  -11.76341556 -127.0556338 ]]\n"
     ]
    }
   ],
   "source": [
    "print(f\"Initial Position: {x, y, z}\")\n",
    "print(f\"Initial Velocity: {vx, vy, vz}\")\n",
    "print(f\"Initial Quaternions: {q0, q1, q2, q3}\")\n",
    "print(f\"Initial Roll, Pitch, Yaw: {(get_euler_angles([[q0, q1, q2, q3]]) * 360) / (2 * pi)}\")"
   ]
  },
  {
   "cell_type": "markdown",
   "id": "8e817eba-bc2c-474a-9477-c2c353a3fa2f",
   "metadata": {},
   "source": [
    "#### Antenna Steering Angle and Steering Rate\n",
    "\n",
    "**From the [ESA Forums](https://forum.step.esa.int/t/level-0-azimuth-beam-address-index-look-up-table-conversion/10854):</br>**\n",
    "\"Based on examining the burst time, the azimuth steering rate, and the actual used span of azimuth beam addresses, I believe the full span of the azimuth steering to cover +/-0.018 radians (i.e. - when the azimuth beam address is 0, the electronically steerable antenna is pointing -0.018 radians in azimuth, when the azimuth beam address is 512, the elcetronically steerable antenna is pointing 0 radians in azimuth (‘broadside’), and when the azimuth beam address is 1023, the electronically steerable antenna is pointing +0.018 radians in azimuth).\""
   ]
  },
  {
   "cell_type": "code",
   "execution_count": 18,
   "id": "a71754d7-ad57-4c5d-aecb-a93098a384f2",
   "metadata": {},
   "outputs": [],
   "source": [
    "def azimuth_beam_address_to_angle(azimuth_beam_address):\n",
    "    first_address = -0.018\n",
    "    last_address = 0.018\n",
    "    num_addresses = 1024\n",
    "    azimuth_angles = np.linspace(first_address, last_address, num_addresses)\n",
    "    return azimuth_angles[azimuth_beam_address]\n",
    "\n",
    "def get_azimuth_steering_angles(packets):\n",
    "    azimuth_angles = []\n",
    "    for packet in packets:\n",
    "        header = packet.get_secondary_header()\n",
    "        azimuth_beam_address = header[\"azimuth_beam_address\"]\n",
    "        azimuth_angles.append(azimuth_beam_address_to_angle(azimuth_beam_address))\n",
    "    return np.asarray(azimuth_angles)\n",
    "\n",
    "def get_azimuth_steering_rate(azimuth_angles, pri):\n",
    "    differences = []\n",
    "    for i in range(len(azimuth_angles)):\n",
    "        if (i != 0):\n",
    "            difference = azimuth_angles[i] - azimuth_angles[i-1]\n",
    "            differences.append(difference)\n",
    "    average_difference = sum(differences) / len(azimuth_angles)\n",
    "    steering_rate_rad_per_second = average_difference / pri\n",
    "    return steering_rate_rad_per_second"
   ]
  },
  {
   "cell_type": "code",
   "execution_count": 19,
   "id": "d7a6cdd6-a776-43b6-bcef-49912e4bbe6e",
   "metadata": {},
   "outputs": [
    {
     "name": "stdout",
     "output_type": "stream",
     "text": [
      "First Azimuth Angle: -0.011806451612903225 radians\n",
      "Last Azimuth Angle: 0.010997067448680349 radians\n",
      "Azimuth Steering Rate: 0.02779033590278584 rad/s\n",
      "Azimuth Steering Rate: 1.592268958480513 deg/s\n"
     ]
    }
   ],
   "source": [
    "first_header = iw1[1][0].get_secondary_header()\n",
    "pri = first_header[\"pri\"] * 1e-6\n",
    "azimuth_angles_radians = get_azimuth_steering_angles(iw1[1])\n",
    "azimuth_steering_rate_rad_s = get_azimuth_steering_rate(azimuth_angles_radians, pri)\n",
    "azimuth_steering_rate_deg_s = (azimuth_steering_rate_rad_s * 360) / (2 * pi)\n",
    "print(f\"First Azimuth Angle: {azimuth_angles_radians[0]} radians\")\n",
    "print(f\"Last Azimuth Angle: {azimuth_angles_radians[-1]} radians\")\n",
    "print(f\"Azimuth Steering Rate: {azimuth_steering_rate_rad_s} rad/s\")\n",
    "print(f\"Azimuth Steering Rate: {azimuth_steering_rate_deg_s} deg/s\")"
   ]
  },
  {
   "cell_type": "markdown",
   "id": "9cb34376-29de-4e9a-ba1a-3f0ce4e22fda",
   "metadata": {},
   "source": [
    "#### Doppler Centroid Rate\n",
    "\n",
    "The doppler centroid rate induced by the antenna scanning is calculated by:\n",
    "$$ k_s(\\eta) = -\\frac{2V_s}{\\lambda}\\cos(k_{\\psi}(\\eta - \\frac{T_b}{2}))k_{\\psi}(\\eta) \\approx -\\frac{2 V_s}{\\lambda}k_{\\psi} $$"
   ]
  },
  {
   "cell_type": "code",
   "execution_count": 20,
   "id": "fe727ec7-4b7c-43a4-82c7-8866284a1826",
   "metadata": {},
   "outputs": [],
   "source": [
    "def calculate_doppler_centroid_rate(velocity, steering_rate):\n",
    "    wavelength = c / 5.405000454334350e+09\n",
    "    return ((-2 * velocity) / wavelength) * steering_rate"
   ]
  },
  {
   "cell_type": "code",
   "execution_count": 21,
   "id": "4e8f40ff-ddc5-4326-b2cc-ef998622c26d",
   "metadata": {},
   "outputs": [
    {
     "name": "stdout",
     "output_type": "stream",
     "text": [
      "Initial Velocity: 7590.144777163056 m/s\n",
      "Initial Doppler Centroid Rate: -7605.869744077674 Hz/s\n"
     ]
    }
   ],
   "source": [
    "initial_velocity = np.linalg.norm(state_vectors[\"velocity\"][0])\n",
    "initial_doppler_centroid_rate = calculate_doppler_centroid_rate(initial_velocity, azimuth_steering_rate_rad_s)\n",
    "print(f\"Initial Velocity: {initial_velocity} m/s\")\n",
    "print(f\"Initial Doppler Centroid Rate: {initial_doppler_centroid_rate} Hz/s\")"
   ]
  },
  {
   "cell_type": "markdown",
   "id": "95b27774-de69-44ed-bc9a-ef9ff37184ad",
   "metadata": {},
   "source": [
    "##### Slant Ranges and $R_0$"
   ]
  },
  {
   "cell_type": "code",
   "execution_count": 22,
   "id": "5166c82d-102c-47b7-a3ed-d7392c4977c6",
   "metadata": {},
   "outputs": [],
   "source": [
    "# All slant ranges calculated this way will be equal for a given burst.\n",
    "# This is due to the fact that the pulse timing parameters are only\n",
    "# updated at the beginning of a burst.\n",
    "slant_ranges = []\n",
    "for packet in iw1[1]:\n",
    "    packet_header = packet.get_secondary_header()\n",
    "    delta_t_suppressed = (320 / (8 * F_REF)) * 1e-6\n",
    "    start_time = packet_header[\"swst\"] * 1e-6\n",
    "    pri = packet_header[\"pri\"] * 1e-6\n",
    "    rank = packet_header[\"rank\"]\n",
    "    delay = rank * pri + start_time + delta_t_suppressed\n",
    "    slant_range = delay * c / 2\n",
    "    slant_ranges.append(slant_range)\n",
    "R_0 = min(slant_ranges)"
   ]
  },
  {
   "cell_type": "markdown",
   "id": "8e209c5a-1b36-4970-9c9b-0af5ebe936d9",
   "metadata": {},
   "source": [
    "#### Calculating $V_r$\n",
    "\n",
    "1. Specify the attitude at the central, beam-center, time. If no attitude data is available, set to 0 or a nominal value.\n",
    "2. Using a circular orbit model with approximately the same radius as the state vector at the central time, an orbit time corresponding to the state vector position at the central time, and a beam nadir angle that gives the disired slant range, compute the beam view vector in ECR coordinates. See Apendix 12A.\n",
    "3. Using the central state vector position, find the target location by solving for the intersection of the view vector with the Earth's surface. Find the range from the satellite to the target. See Appendix 12A.\n",
    "4. Using the satellite's position at the other state vectors, find the ranges $R(\\eta)$ to the same target.\n",
    "5. Use the interpolated state vectors to find the time and satellite position when the range to the target is a minimum. This gives the time of zero Doppler, $\\eta^{'}_{0}$, and the range of closest approach, $R_0$, corresponding to the target.\n",
    "6. Using the time of zero Doppler and the range of closest approach from the previous step as the origin of the hyperbola, find the coefficient $V^2_r$ that gives the best fit to the range points in the hyperbolic model:\n",
    "   $$ R^{2}(\\eta^{'}) = R^2_0 + V^{2}_{r}(\\eta^{'} - \\eta^{'}_{0})^2 $$\n",
    "   This gives an estimate of $V_r$ at the specified range.\n",
    "7. Repeat the steps at various ranges to get estimates of $V_r$ that cover the swath (or burst).\n",
    "8. Fit a low order polynomial through the $V_r$ values, so that $V_r$ is available as a function of range."
   ]
  },
  {
   "cell_type": "code",
   "execution_count": 24,
   "id": "bb0d62ce-185d-4fcf-bcb0-1fc52f9f1cb5",
   "metadata": {},
   "outputs": [],
   "source": [
    "# Satellite Reference Frame\n",
    "\n",
    "gravitation = 3.987e+14\n",
    "wgs84_equatorial_radii = 6_378_137.0\n",
    "ref_altitude = 711_700 # meter\n",
    "ref_orbit_radius = ref_altitude + wgs84_equatorial_radii\n",
    "\n",
    "S0 = np.asarray([0, 0, 0])\n",
    "\n",
    "Vsat = np.sqrt(gravitation / ref_orbit_radius)\n",
    "V0 = np.asarray([0, 0, Vsat])\n",
    "\n",
    "beam_off_nadir = 0.0\n",
    "U0f = np.asarray([-np.cos(beam_off_nadir), np.sin(beam_off_nadir), 0])"
   ]
  },
  {
   "cell_type": "code",
   "execution_count": 26,
   "id": "42276481-ae3d-4d2d-8a85-56025b5c6a0d",
   "metadata": {},
   "outputs": [],
   "source": [
    "# Rotate to Earth Center\n",
    "\n",
    "# In book:\n",
    "# Pitch is clockwise around positive y-axis\n",
    "# Yaw is clockwise around positive x-axis\n",
    "# Roll is clockwise around positive z-axis\n",
    "\n",
    "yaw = 0\n",
    "pitch = 0\n",
    "roll = 0\n",
    "\n",
    "nose_up = np.asarray([\n",
    "    [np.cos(pitch),  0, np.sin(pitch)],\n",
    "    [0,              1,             0],\n",
    "    [-np.sin(pitch), 0, np.cos(pitch)]\n",
    "])\n",
    "\n",
    "nose_left = np.asarray([\n",
    "    [1,          0,             0],\n",
    "    [0, np.cos(yaw), -np.sin(yaw)],\n",
    "    [0, np.sin(yaw),  np.cos(yaw)]\n",
    "])\n",
    "\n",
    "U1 = np.dot(nose_left, np.dot(nose_up, U0f))\n",
    "S1 = S0 + np.asarray([ref_orbit_radius, 0, 0])\n",
    "V1 = V0"
   ]
  },
  {
   "cell_type": "code",
   "execution_count": null,
   "id": "7d4f2888-de3c-475b-bbc2-50204182d86a",
   "metadata": {},
   "outputs": [],
   "source": []
  },
  {
   "cell_type": "markdown",
   "id": "ee3938d7-98c2-43bd-8771-d76389932b3a",
   "metadata": {},
   "source": [
    "**OR**"
   ]
  },
  {
   "attachments": {
    "7167d9e9-c4d4-412e-ab36-313590c6ddab.png": {
     "image/png": "[encoded data removed]"
    }
   },
   "cell_type": "markdown",
   "id": "da731a15-f0b1-4572-8ae4-28017baa4d49",
   "metadata": {},
   "source": [
    "#### Calculating $V_r$\n",
    "\n",
    "![image.png](attachment:7167d9e9-c4d4-412e-ab36-313590c6ddab.png)"
   ]
  },
  {
   "cell_type": "code",
   "execution_count": null,
   "id": "c2917af9-5772-48dc-a979-2bd23482979c",
   "metadata": {},
   "outputs": [],
   "source": []
  },
  {
   "cell_type": "code",
   "execution_count": 29,
   "id": "885b50e9-3b38-4a8b-8663-585695d7564e",
   "metadata": {},
   "outputs": [],
   "source": [
    "# Saving for Later\n",
    "\n",
    "def datetime_to_mjd2000(dt):\n",
    "    epoch = datetime(2000, 1, 1, 12, 0, 0)  # The epoch for MJ2000 (January 1, 2000, 12:00 TT)\n",
    "    delta = dt - epoch\n",
    "    return delta.total_seconds() / (24 * 3600)\n",
    "\n",
    "def gmst_from_datetime(dt):\n",
    "    mjd2000 = datetime_to_mjd2000(dt)\n",
    "    # GMST calculation in degrees\n",
    "    gmst_deg = 280.46061837 + 360.98564736629 * mjd2000\n",
    "    gmst_rad = np.radians(gmst_deg % 360)\n",
    "    return gmst_rad\n",
    "\n",
    "def ecef_to_eci(position_ecef, dt):\n",
    "    # Calculate GMST in radians\n",
    "    gmst = gmst_from_datetime(dt)\n",
    "    # Define the rotation matrix from ECEF to ECI (rotation about Z-axis by GMST)\n",
    "    rotation_matrix = np.array([\n",
    "        [np.cos(gmst), np.sin(gmst), 0],\n",
    "        [-np.sin(gmst), np.cos(gmst), 0],\n",
    "        [0, 0, 1]\n",
    "    ])\n",
    "    # Rotate the ECEF position vector to ECI\n",
    "    position_eci = np.dot(rotation_matrix, position_ecef)\n",
    "    return position_eci\n",
    "\n",
    "def eci_to_ecef(position_eci, dt):\n",
    "    # Calculate GMST in radians\n",
    "    gmst = gmst_from_datetime(dt)\n",
    "    # Define the inverse rotation matrix from ECI to ECEF (rotation about Z-axis by GMST)\n",
    "    rotation_matrix = np.array([\n",
    "        [np.cos(gmst), -np.sin(gmst), 0],\n",
    "        [np.sin(gmst), np.cos(gmst), 0],\n",
    "        [0, 0, 1]\n",
    "    ])\n",
    "    # Rotate the ECI position vector to ECEF\n",
    "    position_ecef = np.dot(rotation_matrix, position_eci)\n",
    "    return position_ecef\n",
    "\n",
    "def ecef_to_latlon(position_ecef):\n",
    "    x, y, z = position_ecef\n",
    "    lon = np.arctan2(y, x)\n",
    "    r = np.sqrt(x**2 + y**2)\n",
    "    lat = np.arctan2(z, r)\n",
    "    lat = np.degrees(lat)\n",
    "    lon = np.degrees(lon)\n",
    "    return lat, lon\n",
    "\n",
    "index = 8\n",
    "\n",
    "packet = packets[index]\n",
    "packet_header = packet.get_secondary_header()\n",
    "sampling_window_length = packet_header[\"swl\"] * 10e-6\n",
    "txpl = packet_header[\"pulse_length\"]\n",
    "pulse_length = txpl * 10e-6\n",
    "range_decimation = packet_header[\"range_decimation\"]\n",
    "delta_t_suppressed = (320 / (8 * F_REF)) * 1e-6\n",
    "start_time = packet_header[\"swst\"] * 1e-6\n",
    "pri = packet_header[\"pri\"] * 1e-6\n",
    "rank = packet_header[\"rank\"]\n",
    "delay = rank * pri + start_time + delta_t_suppressed\n",
    "azimuth_time_dt = azimuth_times[index]\n",
    "azimuth_time_s = azimuth_times_in_seconds[index]\n",
    "slant_range = delay * c / 2\n",
    "\n",
    "header = packets[index].get_secondary_header()\n",
    "elevation_range = np.linspace(-0.000261799, 0.000261799, 16)\n",
    "elevation_angle = elevation_range[header['elevation_beam_address']]\n",
    "azimuth_angle = azimuth_beam_address_to_angle(header['azimuth_beam_address'])\n",
    "azimuth_angle\n",
    "\n",
    "time = state_vectors['time'][index]\n",
    "roll, pitch, yaw = tuple(state_vectors['euler_angle'][index])\n",
    "position_ecef = state_vectors['position'][index]\n",
    "position_eci = ecef_to_eci(position_ecef, time)\n",
    "\n",
    "lat, lon = ecef_to_latlon(eci_to_ecef(position_eci, time))\n",
    "\n",
    "def quaternion_to_rotation_matrix(q):\n",
    "    \"\"\"https://forum.step.esa.int/uploads/default/original/2X/3/315f415284743cf42be03a464121df1ca337a26d.pdf\"\"\"\n",
    "    q0, q1, q2, q3 = q\n",
    "    e00 = q0**2 - q1**2 - q2**2 + q3**2\n",
    "    e01 = 2 * (q0 * q1 + q2 * q3)\n",
    "    e02 = 2 * (q0 * q2 - q1 * q3)\n",
    "    e10 = 2 * (q0 * q1 - q2 * q3)\n",
    "    e11 = -q0**2 + q1**2 - q2**2 + q3**2\n",
    "    e12 = 2 * (q1 * q2 + q0 * q3)\n",
    "    e20 = 2 * (q0 * q2 + q1 * q3)\n",
    "    e21 = 2 * (q1 * q2 - q0 * q3)\n",
    "    e22 = -q0**2 - q1**2 + q2**2 + q3**2\n",
    "    R = np.array([\n",
    "        [e00, e01, e02],\n",
    "        [e10, e11, e12],\n",
    "        [e20, e21, e22]\n",
    "    ])\n",
    "    return R\n",
    "\n",
    "# Function to compute the look vector from the satellite to the target\n",
    "def compute_look_vector(position_sat, quaternions):\n",
    "    # Convert the quaternion to a rotation matrix (from EO CFI to ECEF)\n",
    "    R_eci_to_ecef = quaternion_to_rotation_matrix(quaternions)\n",
    "\n",
    "    # The boresight vector (x-axis) in the EO CFI frame\n",
    "    boresight_vector_eci = np.angle(np.array([0, 0, -1]))\n",
    "\n",
    "    # Apply the rotation to get the look vector in ECEF frame\n",
    "    look_vector_ecef = np.dot(R_eci_to_ecef, boresight_vector_eci)\n",
    "\n",
    "    return look_vector_ecef\n",
    "\n",
    "look_vector = compute_look_vector(position_ecef, [q1, q2, q3, q0])\n",
    "\n",
    "def get_target_position_eci(position_eci, look_vector):\n",
    "    wgs84_equatorial_radii = 6_378_137.0\n",
    "    wgs84_polar_radii = 6_356_752.3142\n",
    "    wgs84_eccentricity = 0.0067395\n",
    "\n",
    "    i = 2\n",
    "    \n",
    "    denominator = 1 + wgs84_eccentricity * view_vector_eci[i]**2\n",
    "    F = (np.dot(position_eci, view_vector_eci) + wgs84_eccentricity * position_eci[i] * view_vector_eci[i]) / denominator\n",
    "    G = (np.dot(position_eci, position_eci) - wgs84_equatorial_radii**2 + wgs84_eccentricity * position_eci[i]**2) / denominator\n",
    "\n",
    "    print(f\"F: {F}\")\n",
    "    print(f\"G: {G}\")\n",
    "    print(f\"F**2-G: {F**2 - G}\")\n",
    "    \n",
    "    range_to_target = -1*F - np.sqrt((F)**2 - (G))\n",
    "\n",
    "    return position_eci + range_to_target * view_vector_eci\n",
    "\n",
    "# target_position_eci = get_target_position_eci(position_ecef, look_vector)\n",
    "# target_position_ecef = eci_to_ecef(target_position_eci, time)\n",
    "# target_lat_lon = ecef_to_latlon(target_position_ecef)\n",
    "\n",
    "# ecef_to_latlon(state_vectors['position'][index])"
   ]
  },
  {
   "cell_type": "code",
   "execution_count": null,
   "id": "a0f82d4a-99ad-4046-9805-3cc43d9b469e",
   "metadata": {},
   "outputs": [],
   "source": []
  }
 ],
 "metadata": {
  "kernelspec": {
   "display_name": "Python 3 (ipykernel)",
   "language": "python",
   "name": "python3"
  },
  "language_info": {
   "codemirror_mode": {
    "name": "ipython",
    "version": 3
   },
   "file_extension": ".py",
   "mimetype": "text/x-python",
   "name": "python",
   "nbconvert_exporter": "python",
   "pygments_lexer": "ipython3",
   "version": "3.12.5"
  }
 },
 "nbformat": 4,
 "nbformat_minor": 5
}
